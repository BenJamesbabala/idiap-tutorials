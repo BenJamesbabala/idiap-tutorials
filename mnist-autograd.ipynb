{
 "cells": [
  {
   "cell_type": "markdown",
   "metadata": {},
   "source": [
    "# torch-autograd example\n",
    "\n",
    "In this example we show how to train a model without torch nn layers.\n",
    "We define an arbitrary function using `torch.` operators, which are automatically differentiated\n",
    "into a neural network model. This is useful in case of complicated models, or 2-nd order derivatives needed.\n",
    "In the end we will do t-SNE embedding of the learned features.\n",
    "\n",
    "The notebook can run without GPU support and needs the following rocks:\n",
    "\n",
    "```\n",
    "luarocks install autograd\n",
    "luarocks install mnist\n",
    "luarocks install manifold\n",
    "```"
   ]
  },
  {
   "cell_type": "code",
   "execution_count": 19,
   "metadata": {
    "collapsed": true
   },
   "outputs": [],
   "source": [
    "-- normally we would avoid having global variables\n",
    "-- but local variables live only in one cell\n",
    "\n",
    "grad = require 'autograd'       -- automatic differentiation \n",
    "mnist = require 'mnist'         -- MNIST dataset loader\n",
    "manifold = require 'manifold'   -- for t-SNE embeddings\n",
    "optim = require 'optim'\n",
    "\n",
    "grad.optimize(true) -- will make autograd optimize graphs by default"
   ]
  },
  {
   "cell_type": "code",
   "execution_count": 3,
   "metadata": {
    "collapsed": true
   },
   "outputs": [],
   "source": [
    "-- define all parameters in this structure\n",
    "opt = {\n",
    "   learningRate = 1e-1,\n",
    "   learningRateDecayRatio = 0.1,\n",
    "   momentum = 0.9,\n",
    "   weightDecay = 0.0005,\n",
    "   dampening = 0,\n",
    "   type = 'float',\n",
    "   batchSize = 128,\n",
    "}"
   ]
  },
  {
   "cell_type": "code",
   "execution_count": 4,
   "metadata": {
    "collapsed": false
   },
   "outputs": [],
   "source": [
    "function LinearParams(ni,no)\n",
    "   local stdv = 1/math.sqrt(no); \n",
    "   return {torch.randn(no,ni):uniform(-stdv,stdv), torch.zeros(no)} \n",
    "end\n",
    "\n",
    "function Linear(params, x)\n",
    "   local W,b = params[1], params[2]\n",
    "   local y = x * torch.transpose(W,1,2)\n",
    "   return y + torch.expandAs(b:view(1,b:size(1)), y)\n",
    "end\n",
    "\n",
    "cast = function(x) return grad.util.cast(x, opt.type); end\n",
    "\n",
    "params = cast{\n",
    "    LinearParams(28*28,512),\n",
    "    LinearParams(512,64),\n",
    "    LinearParams(64,10), \n",
    "}\n",
    "\n",
    "local relu = function(x) return torch.cmax(x,0) end\n",
    "\n",
    "f = function(W, x)\n",
    "   local output = x:view(-1,28*28)\n",
    "   for i,w in ipairs(W) do\n",
    "      output = Linear(w, i == 1 and output or relu(output))\n",
    "   end\n",
    "   return output\n",
    "end\n",
    "\n",
    "h = function(W, x, y_hat)\n",
    "   local y = f(W, x)\n",
    "   return grad.loss.crossEntropy(y, y_hat) / y:size(1)\n",
    "end"
   ]
  },
  {
   "cell_type": "markdown",
   "metadata": {},
   "source": [
    "## Prepare data and show a few examples"
   ]
  },
  {
   "cell_type": "code",
   "execution_count": 5,
   "metadata": {
    "collapsed": false
   },
   "outputs": [
    {
     "data": {
      "image/png": "[encoded data removed]",
      "text/plain": [
       "Console does not support images"
      ]
     },
     "metadata": {
      "image/png": {
       "height": 180,
       "width": 180
      }
     },
     "output_type": "display_data"
    }
   ],
   "source": [
    "trainData = cast(mnist.traindataset())\n",
    "testData = cast(mnist.testdataset())\n",
    "\n",
    "-- simply normalize range to [0,1] range\n",
    "trainData.label:add(1); trainData.data:div(256)\n",
    "testData.label:add(1);  testData.data:div(256)\n",
    "\n",
    "-- show a few examples from the training set\n",
    "itorch.image(trainData.data:narrow(1,1,36))"
   ]
  },
  {
   "cell_type": "code",
   "execution_count": 20,
   "metadata": {
    "collapsed": false,
    "scrolled": false
   },
   "outputs": [],
   "source": [
    "local g = grad.optim.sgd(grad(h), grad.util.deepCopy(opt), params)\n",
    "\n",
    "function train()\n",
    "    local targets = cast(torch.Tensor(opt.batchSize,10))\n",
    "    local inputs = cast(torch.Tensor(opt.batchSize,28*28))\n",
    "    local indices = torch.randperm(trainData.data:size(1)):long():split(opt.batchSize)\n",
    "    indices[#indices] = nil\n",
    "\n",
    "    local loss = 0\n",
    "    for t,v in ipairs(indices) do\n",
    "        local inputs_ = trainData.data:index(1,v)\n",
    "        local target_idx = trainData.label:index(1,v)\n",
    "        targets:zero():scatter(2,target_idx:long():view(opt.batchSize,1),1)\n",
    "        inputs:copy(inputs_)\n",
    "\n",
    "        local grads,l = g(inputs, targets)\n",
    "        loss = loss + l\n",
    "    end\n",
    "    return loss\n",
    "end\n",
    "\n",
    "function test()\n",
    "    local confusion = optim.ConfusionMatrix(10)\n",
    "    local inputs_split = testData.data:split(opt.batchSize)\n",
    "    local targets_split = testData.label:split(opt.batchSize)\n",
    "    \n",
    "    for i,v in ipairs(inputs_split) do\n",
    "        confusion:batchAdd(f(params, v), targets_split[i])\n",
    "    end\n",
    "    print(confusion)\n",
    "end"
   ]
  },
  {
   "cell_type": "code",
   "execution_count": 21,
   "metadata": {
    "collapsed": false,
    "scrolled": false
   },
   "outputs": [
    {
     "data": {
      "text/plain": [
       "Epoch: 1\t\n"
      ]
     },
     "execution_count": 21,
     "metadata": {},
     "output_type": "execute_result"
    },
    {
     "data": {
      "text/plain": [
       "Epoch: 2\t\n"
      ]
     },
     "execution_count": 21,
     "metadata": {},
     "output_type": "execute_result"
    },
    {
     "data": {
      "text/plain": [
       "Epoch: 3\t\n"
      ]
     },
     "execution_count": 21,
     "metadata": {},
     "output_type": "execute_result"
    },
    {
     "data": {
      "text/plain": [
       "Epoch: 4\t\n"
      ]
     },
     "execution_count": 21,
     "metadata": {},
     "output_type": "execute_result"
    },
    {
     "data": {
      "text/plain": [
       "Epoch: 5\t\n"
      ]
     },
     "execution_count": 21,
     "metadata": {},
     "output_type": "execute_result"
    },
    {
     "data": {
      "text/plain": [
       "Epoch: 6\t\n"
      ]
     },
     "execution_count": 21,
     "metadata": {},
     "output_type": "execute_result"
    },
    {
     "data": {
      "text/plain": [
       "Epoch: 7\t\n"
      ]
     },
     "execution_count": 21,
     "metadata": {},
     "output_type": "execute_result"
    },
    {
     "data": {
      "text/plain": [
       "Epoch: 8\t\n"
      ]
     },
     "execution_count": 21,
     "metadata": {},
     "output_type": "execute_result"
    },
    {
     "data": {
      "text/plain": [
       "Epoch: 9\t\n"
      ]
     },
     "execution_count": 21,
     "metadata": {},
     "output_type": "execute_result"
    },
    {
     "data": {
      "text/plain": [
       "Epoch: 10\t\n"
      ]
     },
     "execution_count": 21,
     "metadata": {},
     "output_type": "execute_result"
    },
    {
     "data": {
      "text/plain": [
       "Epoch: 11\t\n"
      ]
     },
     "execution_count": 21,
     "metadata": {},
     "output_type": "execute_result"
    },
    {
     "data": {
      "text/plain": [
       "Epoch: 12\t\n"
      ]
     },
     "execution_count": 21,
     "metadata": {},
     "output_type": "execute_result"
    },
    {
     "data": {
      "text/plain": [
       "Epoch: 13\t\n"
      ]
     },
     "execution_count": 21,
     "metadata": {},
     "output_type": "execute_result"
    },
    {
     "data": {
      "text/plain": [
       "Epoch: 14\t\n"
      ]
     },
     "execution_count": 21,
     "metadata": {},
     "output_type": "execute_result"
    },
    {
     "data": {
      "text/plain": [
       "Epoch: 15\t\n"
      ]
     },
     "execution_count": 21,
     "metadata": {},
     "output_type": "execute_result"
    },
    {
     "data": {
      "text/plain": [
       "Epoch: 16\t\n"
      ]
     },
     "execution_count": 21,
     "metadata": {},
     "output_type": "execute_result"
    },
    {
     "data": {
      "text/plain": [
       "Epoch: 17\t\n"
      ]
     },
     "execution_count": 21,
     "metadata": {},
     "output_type": "execute_result"
    },
    {
     "data": {
      "text/plain": [
       "Epoch: 18\t\n"
      ]
     },
     "execution_count": 21,
     "metadata": {},
     "output_type": "execute_result"
    },
    {
     "data": {
      "text/plain": [
       "Epoch: 19\t\n"
      ]
     },
     "execution_count": 21,
     "metadata": {},
     "output_type": "execute_result"
    },
    {
     "data": {
      "text/plain": [
       "Epoch: 20\t\n"
      ]
     },
     "execution_count": 21,
     "metadata": {},
     "output_type": "execute_result"
    },
    {
     "ename": "[string \"local Plot = require 'itorch.Plot'...\"]:12: bad argument #2 to 'select' (out of range at /tmp/torch7/lib/TH/generic/THTensor.c:370)\nstack traceback:\n\t[C]: in function 'select'\n\t[string \"local Plot = require 'itorch.Plot'...\"]:12: in main chunk\n\t[C]: in function 'xpcall'\n\t...s/szagoruyko/torch/install/share/lua/5.1/itorch/main.lua:209: in function <...s/szagoruyko/torch/install/share/lua/5.1/itorch/main.lua:173>\n\t...s/szagoruyko/torch/install/share/lua/5.1/lzmq/poller.lua:75: in function 'poll'\n\t...zagoruyko/torch/install/share/lua/5.1/lzmq/impl/loop.lua:307: in function 'poll'\n\t...zagoruyko/torch/install/share/lua/5.1/lzmq/impl/loop.lua:325: in function 'sleep_ex'\n\t...zagoruyko/torch/install/share/lua/5.1/lzmq/impl/loop.lua:370: in function 'start'\n\t...s/szagoruyko/torch/install/share/lua/5.1/itorch/main.lua:381: in main chunk\n\t[C]: in function 'require'\n\t(command line):1: in main chunk\n\t[C]: at 0x010631cbc0",
     "evalue": "",
     "output_type": "error",
     "traceback": [
      "[string \"local Plot = require 'itorch.Plot'...\"]:12: bad argument #2 to 'select' (out of range at /tmp/torch7/lib/TH/generic/THTensor.c:370)\nstack traceback:\n\t[C]: in function 'select'\n\t[string \"local Plot = require 'itorch.Plot'...\"]:12: in main chunk\n\t[C]: in function 'xpcall'\n\t...s/szagoruyko/torch/install/share/lua/5.1/itorch/main.lua:209: in function <...s/szagoruyko/torch/install/share/lua/5.1/itorch/main.lua:173>\n\t...s/szagoruyko/torch/install/share/lua/5.1/lzmq/poller.lua:75: in function 'poll'\n\t...zagoruyko/torch/install/share/lua/5.1/lzmq/impl/loop.lua:307: in function 'poll'\n\t...zagoruyko/torch/install/share/lua/5.1/lzmq/impl/loop.lua:325: in function 'sleep_ex'\n\t...zagoruyko/torch/install/share/lua/5.1/lzmq/impl/loop.lua:370: in function 'start'\n\t...s/szagoruyko/torch/install/share/lua/5.1/itorch/main.lua:381: in main chunk\n\t[C]: in function 'require'\n\t(command line):1: in main chunk\n\t[C]: at 0x010631cbc0"
     ]
    }
   ],
   "source": [
    "local Plot = require 'itorch.Plot'\n",
    "\n",
    "local nEpochs = 20\n",
    "\n",
    "local losses = {}\n",
    "for i=1,nEpochs do\n",
    "    print('Epoch: '..i)\n",
    "    table.insert(losses, {train()})\n",
    "end\n",
    "\n",
    "local plot = Plot()\n",
    "plot:line(torch.range(1,#losses), torch.Tensor(losses):select(2,2))\n",
    "plot:draw()"
   ]
  },
  {
   "cell_type": "code",
   "execution_count": 9,
   "metadata": {
    "collapsed": false
   },
   "outputs": [
    {
     "data": {
      "text/plain": [
       "  971     0     0     1     0     2     2     1     3     0\n",
       "    0  1121     2     2     0     1     2     1     6     0\n",
       "    4     2   999     3     2     0     7     7     6     2\n",
       "    1     0     2   993     0     6     0     3     2     3\n",
       "    1     0     1     0   955     0     5     1     0    19\n",
       "    3     0     0     9     0   873     1     1     5     0\n",
       "    5     3     1     0     5     7   935     0     2     0\n",
       "    1     5     4     1     2     1     0  1003     1    10\n",
       "    2     0     1     2     3     3     1     2   957     3\n",
       "    2     2     0     2     7     2     0     1     3   990\n",
       "[torch.LongTensor of size 10x10]\n",
       "\n"
      ]
     },
     "execution_count": 9,
     "metadata": {},
     "output_type": "execute_result"
    }
   ],
   "source": [
    "test()"
   ]
  },
  {
   "cell_type": "code",
   "execution_count": 18,
   "metadata": {
    "collapsed": false,
    "scrolled": false
   },
   "outputs": [
    {
     "data": {
      "text/plain": [
       "extracted features size:\t"
      ]
     },
     "execution_count": 18,
     "metadata": {},
     "output_type": "execute_result"
    },
    {
     "data": {
      "text/plain": [
       " 1000\n",
       "   64\n",
       "[torch.LongStorage of size 2]\n",
       "\n"
      ]
     },
     "execution_count": 18,
     "metadata": {},
     "output_type": "execute_result"
    },
    {
     "data": {
      "text/plain": [
       "Computing P-values...\t\n"
      ]
     },
     "execution_count": 18,
     "metadata": {},
     "output_type": "execute_result"
    },
    {
     "data": {
      "text/plain": [
       "Running t-SNE...\t\n"
      ]
     },
     "execution_count": 18,
     "metadata": {},
     "output_type": "execute_result"
    },
    {
     "data": {
      "text/plain": [
       "Iteration 10: KL divergence is 44.810990719246\t\n"
      ]
     },
     "execution_count": 18,
     "metadata": {},
     "output_type": "execute_result"
    },
    {
     "data": {
      "text/plain": [
       "Iteration 20: KL divergence is 37.573150211726\t\n"
      ]
     },
     "execution_count": 18,
     "metadata": {},
     "output_type": "execute_result"
    },
    {
     "data": {
      "text/plain": [
       "Iteration 30: KL divergence is 36.246016442589\t\n"
      ]
     },
     "execution_count": 18,
     "metadata": {},
     "output_type": "execute_result"
    },
    {
     "data": {
      "text/plain": [
       "Iteration 40: KL divergence is 35.896618997766\t\n"
      ]
     },
     "execution_count": 18,
     "metadata": {},
     "output_type": "execute_result"
    },
    {
     "data": {
      "text/plain": [
       "Iteration 50: KL divergence is 35.932200467777\t\n"
      ]
     },
     "execution_count": 18,
     "metadata": {},
     "output_type": "execute_result"
    },
    {
     "data": {
      "text/plain": [
       "Iteration 60: KL divergence is 35.844628246768\t\n"
      ]
     },
     "execution_count": 18,
     "metadata": {},
     "output_type": "execute_result"
    },
    {
     "data": {
      "text/plain": [
       "Iteration 70: KL divergence is 35.907060255225\t\n"
      ]
     },
     "execution_count": 18,
     "metadata": {},
     "output_type": "execute_result"
    },
    {
     "data": {
      "text/plain": [
       "Iteration 80: KL divergence is 35.838557044331\t\n"
      ]
     },
     "execution_count": 18,
     "metadata": {},
     "output_type": "execute_result"
    },
    {
     "data": {
      "text/plain": [
       "Iteration 90: KL divergence is 36.006796906438\t\n"
      ]
     },
     "execution_count": 18,
     "metadata": {},
     "output_type": "execute_result"
    },
    {
     "data": {
      "text/plain": [
       "Iteration 100: KL divergence is 35.918319161779\t\n"
      ]
     },
     "execution_count": 18,
     "metadata": {},
     "output_type": "execute_result"
    },
    {
     "data": {
      "text/plain": [
       "Iteration 110: KL divergence is 36.015653824968\t\n"
      ]
     },
     "execution_count": 18,
     "metadata": {},
     "output_type": "execute_result"
    },
    {
     "data": {
      "text/plain": [
       "Iteration 120: KL divergence is 36.083345092928\t\n"
      ]
     },
     "execution_count": 18,
     "metadata": {},
     "output_type": "execute_result"
    },
    {
     "data": {
      "text/plain": [
       "Iteration 130: KL divergence is 36.0572454773\t\n"
      ]
     },
     "execution_count": 18,
     "metadata": {},
     "output_type": "execute_result"
    },
    {
     "data": {
      "text/plain": [
       "Iteration 140: KL divergence is 36.095716101285\t\n"
      ]
     },
     "execution_count": 18,
     "metadata": {},
     "output_type": "execute_result"
    },
    {
     "data": {
      "text/plain": [
       "Iteration 150: KL divergence is 36.110434040705\t\n"
      ]
     },
     "execution_count": 18,
     "metadata": {},
     "output_type": "execute_result"
    },
    {
     "data": {
      "text/plain": [
       "Iteration 160: KL divergence is 36.069340057057\t\n"
      ]
     },
     "execution_count": 18,
     "metadata": {},
     "output_type": "execute_result"
    },
    {
     "data": {
      "text/plain": [
       "Iteration 170: KL divergence is 36.189960988446\t\n"
      ]
     },
     "execution_count": 18,
     "metadata": {},
     "output_type": "execute_result"
    },
    {
     "data": {
      "text/plain": [
       "Iteration 180: KL divergence is 36.211247226536\t\n"
      ]
     },
     "execution_count": 18,
     "metadata": {},
     "output_type": "execute_result"
    },
    {
     "data": {
      "text/plain": [
       "Iteration 190: KL divergence is 36.150124524613\t\n"
      ]
     },
     "execution_count": 18,
     "metadata": {},
     "output_type": "execute_result"
    },
    {
     "data": {
      "text/plain": [
       "Iteration 200: KL divergence is 1.2448729256078\t\n"
      ]
     },
     "execution_count": 18,
     "metadata": {},
     "output_type": "execute_result"
    },
    {
     "data": {
      "text/plain": [
       "Iteration 210: KL divergence is 0.76454668607331\t\n"
      ]
     },
     "execution_count": 18,
     "metadata": {},
     "output_type": "execute_result"
    },
    {
     "data": {
      "text/plain": [
       "Iteration 220: KL divergence is 0.54288888584803\t\n"
      ]
     },
     "execution_count": 18,
     "metadata": {},
     "output_type": "execute_result"
    },
    {
     "data": {
      "text/plain": [
       "Iteration 230: KL divergence is 0.50921767396972\t\n"
      ]
     },
     "execution_count": 18,
     "metadata": {},
     "output_type": "execute_result"
    },
    {
     "data": {
      "text/plain": [
       "Iteration 240: KL divergence is 0.49624979167018\t\n"
      ]
     },
     "execution_count": 18,
     "metadata": {},
     "output_type": "execute_result"
    },
    {
     "data": {
      "text/plain": [
       "Iteration 250: KL divergence is 0.48932278832674\t\n"
      ]
     },
     "execution_count": 18,
     "metadata": {},
     "output_type": "execute_result"
    },
    {
     "data": {
      "text/plain": [
       "Iteration 260: KL divergence is 0.486001429535\t\n"
      ]
     },
     "execution_count": 18,
     "metadata": {},
     "output_type": "execute_result"
    },
    {
     "data": {
      "text/plain": [
       "Iteration 270: KL divergence is 0.48599244438129\t\n"
      ]
     },
     "execution_count": 18,
     "metadata": {},
     "output_type": "execute_result"
    },
    {
     "data": {
      "text/plain": [
       "Iteration 280: KL divergence is 0.48350479208561\t\n"
      ]
     },
     "execution_count": 18,
     "metadata": {},
     "output_type": "execute_result"
    },
    {
     "data": {
      "text/plain": [
       "Iteration 290: KL divergence is 0.48154025321421\t\n"
      ]
     },
     "execution_count": 18,
     "metadata": {},
     "output_type": "execute_result"
    },
    {
     "data": {
      "text/plain": [
       "Iteration 300: KL divergence is 0.4805640467762\t\n"
      ]
     },
     "execution_count": 18,
     "metadata": {},
     "output_type": "execute_result"
    },
    {
     "data": {
      "text/plain": [
       "Iteration 310: KL divergence is 0.47901621470691\t\n"
      ]
     },
     "execution_count": 18,
     "metadata": {},
     "output_type": "execute_result"
    },
    {
     "data": {
      "text/plain": [
       "Iteration 320: KL divergence is 0.4773550800162\t\n"
      ]
     },
     "execution_count": 18,
     "metadata": {},
     "output_type": "execute_result"
    },
    {
     "data": {
      "text/plain": [
       "Iteration 330: KL divergence is 0.47498719172252\t\n"
      ]
     },
     "execution_count": 18,
     "metadata": {},
     "output_type": "execute_result"
    },
    {
     "data": {
      "text/plain": [
       "Iteration 340: KL divergence is 0.47381125106867\t\n"
      ]
     },
     "execution_count": 18,
     "metadata": {},
     "output_type": "execute_result"
    },
    {
     "data": {
      "text/plain": [
       "Iteration 350: KL divergence is 0.47096054669609\t\n"
      ]
     },
     "execution_count": 18,
     "metadata": {},
     "output_type": "execute_result"
    },
    {
     "data": {
      "text/plain": [
       "Iteration 360: KL divergence is 0.46963693285326\t\n"
      ]
     },
     "execution_count": 18,
     "metadata": {},
     "output_type": "execute_result"
    },
    {
     "data": {
      "text/plain": [
       "Iteration 370: KL divergence is 0.46844749852062\t\n"
      ]
     },
     "execution_count": 18,
     "metadata": {},
     "output_type": "execute_result"
    },
    {
     "data": {
      "text/plain": [
       "Iteration 380: KL divergence is 0.4675698513935\t\n"
      ]
     },
     "execution_count": 18,
     "metadata": {},
     "output_type": "execute_result"
    },
    {
     "data": {
      "text/plain": [
       "Iteration 390: KL divergence is 0.46629665944426\t\n"
      ]
     },
     "execution_count": 18,
     "metadata": {},
     "output_type": "execute_result"
    },
    {
     "data": {
      "text/plain": [
       "Iteration 400: KL divergence is 0.46498563334541\t\n"
      ]
     },
     "execution_count": 18,
     "metadata": {},
     "output_type": "execute_result"
    },
    {
     "data": {
      "text/plain": [
       "Iteration 410: KL divergence is 0.46458941145954\t\n"
      ]
     },
     "execution_count": 18,
     "metadata": {},
     "output_type": "execute_result"
    },
    {
     "data": {
      "text/plain": [
       "Iteration 420: KL divergence is 0.46344780538187\t\n"
      ]
     },
     "execution_count": 18,
     "metadata": {},
     "output_type": "execute_result"
    },
    {
     "data": {
      "text/plain": [
       "Iteration 430: KL divergence is 0.46277666767138\t\n"
      ]
     },
     "execution_count": 18,
     "metadata": {},
     "output_type": "execute_result"
    },
    {
     "data": {
      "text/plain": [
       "Iteration 440: KL divergence is 0.46175557761279\t\n"
      ]
     },
     "execution_count": 18,
     "metadata": {},
     "output_type": "execute_result"
    },
    {
     "data": {
      "text/plain": [
       "Iteration 450: KL divergence is 0.46107954522001\t\n"
      ]
     },
     "execution_count": 18,
     "metadata": {},
     "output_type": "execute_result"
    },
    {
     "data": {
      "text/plain": [
       "Iteration 460: KL divergence is 0.46007105745708\t\n"
      ]
     },
     "execution_count": 18,
     "metadata": {},
     "output_type": "execute_result"
    },
    {
     "data": {
      "text/plain": [
       "Iteration 470: KL divergence is 0.45900257063182\t\n"
      ]
     },
     "execution_count": 18,
     "metadata": {},
     "output_type": "execute_result"
    },
    {
     "data": {
      "text/plain": [
       "Iteration 480: KL divergence is 0.45806916819849\t\n"
      ]
     },
     "execution_count": 18,
     "metadata": {},
     "output_type": "execute_result"
    },
    {
     "data": {
      "text/plain": [
       "Iteration 490: KL divergence is 0.45725679153874\t\n"
      ]
     },
     "execution_count": 18,
     "metadata": {},
     "output_type": "execute_result"
    },
    {
     "data": {
      "text/plain": [
       "Iteration 500: KL divergence is 0.45722672962154\t\n"
      ]
     },
     "execution_count": 18,
     "metadata": {},
     "output_type": "execute_result"
    },
    {
     "data": {
      "text/plain": [
       "Iteration 510: KL divergence is 0.45630109716865\t\n"
      ]
     },
     "execution_count": 18,
     "metadata": {},
     "output_type": "execute_result"
    },
    {
     "data": {
      "text/plain": [
       "Iteration 520: KL divergence is 0.45602426977102\t\n"
      ]
     },
     "execution_count": 18,
     "metadata": {},
     "output_type": "execute_result"
    },
    {
     "data": {
      "text/plain": [
       "Iteration 530: KL divergence is 0.45573823751051\t\n"
      ]
     },
     "execution_count": 18,
     "metadata": {},
     "output_type": "execute_result"
    },
    {
     "data": {
      "text/plain": [
       "Iteration 540: KL divergence is 0.45534287182449\t\n"
      ]
     },
     "execution_count": 18,
     "metadata": {},
     "output_type": "execute_result"
    },
    {
     "data": {
      "text/plain": [
       "Iteration 550: KL divergence is 0.45496974169659\t\n"
      ]
     },
     "execution_count": 18,
     "metadata": {},
     "output_type": "execute_result"
    },
    {
     "data": {
      "text/plain": [
       "Iteration 560: KL divergence is 0.45439583223101\t\n"
      ]
     },
     "execution_count": 18,
     "metadata": {},
     "output_type": "execute_result"
    },
    {
     "data": {
      "text/plain": [
       "Iteration 570: KL divergence is 0.45391474815382\t\n"
      ]
     },
     "execution_count": 18,
     "metadata": {},
     "output_type": "execute_result"
    },
    {
     "data": {
      "text/plain": [
       "Iteration 580: KL divergence is 0.45356456934812\t\n"
      ]
     },
     "execution_count": 18,
     "metadata": {},
     "output_type": "execute_result"
    },
    {
     "data": {
      "text/plain": [
       "Iteration 590: KL divergence is 0.45336783029395\t\n"
      ]
     },
     "execution_count": 18,
     "metadata": {},
     "output_type": "execute_result"
    },
    {
     "data": {
      "text/plain": [
       "Iteration 600: KL divergence is 0.45284707157594\t\n"
      ]
     },
     "execution_count": 18,
     "metadata": {},
     "output_type": "execute_result"
    },
    {
     "data": {
      "text/plain": [
       "Iteration 610: KL divergence is 0.45255896521773\t\n"
      ]
     },
     "execution_count": 18,
     "metadata": {},
     "output_type": "execute_result"
    },
    {
     "data": {
      "text/plain": [
       "Iteration 620: KL divergence is 0.4522513875556\t\n"
      ]
     },
     "execution_count": 18,
     "metadata": {},
     "output_type": "execute_result"
    },
    {
     "data": {
      "text/plain": [
       "Iteration 630: KL divergence is 0.45205663171311\t\n"
      ]
     },
     "execution_count": 18,
     "metadata": {},
     "output_type": "execute_result"
    },
    {
     "data": {
      "text/plain": [
       "Iteration 640: KL divergence is 0.45181954672363\t\n"
      ]
     },
     "execution_count": 18,
     "metadata": {},
     "output_type": "execute_result"
    },
    {
     "data": {
      "text/plain": [
       "Iteration 650: KL divergence is 0.45148554836006\t\n"
      ]
     },
     "execution_count": 18,
     "metadata": {},
     "output_type": "execute_result"
    },
    {
     "data": {
      "text/plain": [
       "Iteration 660: KL divergence is 0.45129621972809\t\n"
      ]
     },
     "execution_count": 18,
     "metadata": {},
     "output_type": "execute_result"
    },
    {
     "data": {
      "text/plain": [
       "Iteration 670: KL divergence is 0.4510919223113\t\n"
      ]
     },
     "execution_count": 18,
     "metadata": {},
     "output_type": "execute_result"
    },
    {
     "data": {
      "text/plain": [
       "Iteration 680: KL divergence is 0.4509433188471\t\n"
      ]
     },
     "execution_count": 18,
     "metadata": {},
     "output_type": "execute_result"
    },
    {
     "data": {
      "text/plain": [
       "Iteration 690: KL divergence is 0.45083518559252\t\n"
      ]
     },
     "execution_count": 18,
     "metadata": {},
     "output_type": "execute_result"
    },
    {
     "data": {
      "text/plain": [
       "Iteration 700: KL divergence is 0.45070743425419\t\n"
      ]
     },
     "execution_count": 18,
     "metadata": {},
     "output_type": "execute_result"
    },
    {
     "data": {
      "text/plain": [
       "Iteration 710: KL divergence is 0.45064356033712\t\n"
      ]
     },
     "execution_count": 18,
     "metadata": {},
     "output_type": "execute_result"
    },
    {
     "data": {
      "text/plain": [
       "Iteration 720: KL divergence is 0.45051861811445\t\n"
      ]
     },
     "execution_count": 18,
     "metadata": {},
     "output_type": "execute_result"
    },
    {
     "data": {
      "text/plain": [
       "Iteration 730: KL divergence is 0.4504185812408\t\n"
      ]
     },
     "execution_count": 18,
     "metadata": {},
     "output_type": "execute_result"
    },
    {
     "data": {
      "text/plain": [
       "Iteration 740: KL divergence is 0.45037759671092\t\n"
      ]
     },
     "execution_count": 18,
     "metadata": {},
     "output_type": "execute_result"
    },
    {
     "data": {
      "text/plain": [
       "Iteration 750: KL divergence is 0.45028409562305\t\n"
      ]
     },
     "execution_count": 18,
     "metadata": {},
     "output_type": "execute_result"
    },
    {
     "data": {
      "text/plain": [
       "Iteration 760: KL divergence is 0.45024128062931\t\n"
      ]
     },
     "execution_count": 18,
     "metadata": {},
     "output_type": "execute_result"
    },
    {
     "data": {
      "text/plain": [
       "Iteration 770: KL divergence is 0.45015901038351\t\n"
      ]
     },
     "execution_count": 18,
     "metadata": {},
     "output_type": "execute_result"
    },
    {
     "data": {
      "text/plain": [
       "Iteration 780: KL divergence is 0.45002937481141\t\n"
      ]
     },
     "execution_count": 18,
     "metadata": {},
     "output_type": "execute_result"
    },
    {
     "data": {
      "text/plain": [
       "Iteration 790: KL divergence is 0.44992625114625\t\n"
      ]
     },
     "execution_count": 18,
     "metadata": {},
     "output_type": "execute_result"
    },
    {
     "data": {
      "text/plain": [
       "Iteration 800: KL divergence is 0.44958719023621\t\n"
      ]
     },
     "execution_count": 18,
     "metadata": {},
     "output_type": "execute_result"
    },
    {
     "data": {
      "text/plain": [
       "Iteration 810: KL divergence is 0.44940035037102\t\n"
      ]
     },
     "execution_count": 18,
     "metadata": {},
     "output_type": "execute_result"
    },
    {
     "data": {
      "text/plain": [
       "Iteration 820: KL divergence is 0.44921105468451\t\n"
      ]
     },
     "execution_count": 18,
     "metadata": {},
     "output_type": "execute_result"
    },
    {
     "data": {
      "text/plain": [
       "Iteration 830: KL divergence is 0.44912657207315\t\n"
      ]
     },
     "execution_count": 18,
     "metadata": {},
     "output_type": "execute_result"
    },
    {
     "data": {
      "text/plain": [
       "Iteration 840: KL divergence is 0.44902349281318\t\n"
      ]
     },
     "execution_count": 18,
     "metadata": {},
     "output_type": "execute_result"
    },
    {
     "data": {
      "text/plain": [
       "Iteration 850: KL divergence is 0.44895958668272\t\n"
      ]
     },
     "execution_count": 18,
     "metadata": {},
     "output_type": "execute_result"
    },
    {
     "data": {
      "text/plain": [
       "Iteration 860: KL divergence is 0.44888861779681\t\n"
      ]
     },
     "execution_count": 18,
     "metadata": {},
     "output_type": "execute_result"
    },
    {
     "data": {
      "text/plain": [
       "Iteration 870: KL divergence is 0.44883426677721\t\n"
      ]
     },
     "execution_count": 18,
     "metadata": {},
     "output_type": "execute_result"
    },
    {
     "data": {
      "text/plain": [
       "Iteration 880: KL divergence is 0.44878669485478\t\n"
      ]
     },
     "execution_count": 18,
     "metadata": {},
     "output_type": "execute_result"
    },
    {
     "data": {
      "text/plain": [
       "Iteration 890: KL divergence is 0.44873412113422\t\n"
      ]
     },
     "execution_count": 18,
     "metadata": {},
     "output_type": "execute_result"
    },
    {
     "data": {
      "text/plain": [
       "Iteration 900: KL divergence is 0.44868337297553\t\n"
      ]
     },
     "execution_count": 18,
     "metadata": {},
     "output_type": "execute_result"
    },
    {
     "data": {
      "text/plain": [
       "Iteration 910: KL divergence is 0.44863839623341\t\n"
      ]
     },
     "execution_count": 18,
     "metadata": {},
     "output_type": "execute_result"
    },
    {
     "data": {
      "text/plain": [
       "Iteration 920: KL divergence is 0.44859374408575\t\n"
      ]
     },
     "execution_count": 18,
     "metadata": {},
     "output_type": "execute_result"
    },
    {
     "data": {
      "text/plain": [
       "Iteration 930: KL divergence is 0.44855005183339\t\n"
      ]
     },
     "execution_count": 18,
     "metadata": {},
     "output_type": "execute_result"
    },
    {
     "data": {
      "text/plain": [
       "Iteration 940: KL divergence is 0.44851514630584\t\n"
      ]
     },
     "execution_count": 18,
     "metadata": {},
     "output_type": "execute_result"
    },
    {
     "data": {
      "text/plain": [
       "Iteration 950: KL divergence is 0.44847876487469\t\n"
      ]
     },
     "execution_count": 18,
     "metadata": {},
     "output_type": "execute_result"
    },
    {
     "data": {
      "text/plain": [
       "Iteration 960: KL divergence is 0.44841458189789\t\n"
      ]
     },
     "execution_count": 18,
     "metadata": {},
     "output_type": "execute_result"
    },
    {
     "data": {
      "text/plain": [
       "Iteration 970: KL divergence is 0.44836548374993\t\n"
      ]
     },
     "execution_count": 18,
     "metadata": {},
     "output_type": "execute_result"
    },
    {
     "data": {
      "text/plain": [
       "Iteration 980: KL divergence is 0.44831451002327\t\n"
      ]
     },
     "execution_count": 18,
     "metadata": {},
     "output_type": "execute_result"
    },
    {
     "data": {
      "text/plain": [
       "Iteration 990: KL divergence is 0.44822375346896\t\n"
      ]
     },
     "execution_count": 18,
     "metadata": {},
     "output_type": "execute_result"
    },
    {
     "data": {
      "text/plain": [
       "Iteration 1000: KL divergence is 0.44817237627867\t\n"
      ]
     },
     "execution_count": 18,
     "metadata": {},
     "output_type": "execute_result"
    }
   ],
   "source": [
    "x_subset = trainData.data:narrow(1,1,1000)\n",
    "\n",
    "local W_t = grad.util.deepCopy(params)\n",
    "W_t[#params] = nil -- remove the last layer\n",
    "\n",
    "-- extract features\n",
    "local features = f(W_t, x_subset)\n",
    "print('extracted features size:', #features)\n",
    "\n",
    "p = manifold.embedding.tsne(features:double(), {dim=2, perplexity=30})"
   ]
  },
  {
   "cell_type": "code",
   "execution_count": 16,
   "metadata": {
    "collapsed": false
   },
   "outputs": [
    {
     "data": {
      "image/png": "[encoded data removed]",
      "text/plain": [
       "Console does not support images"
      ]
     },
     "metadata": {
      "image/png": {
       "height": 900,
       "width": 1200
      }
     },
     "output_type": "display_data"
    }
   ],
   "source": [
    "local images = subset\n",
    "\n",
    "local s = {900,1200}\n",
    "local b = 16\n",
    "local p_ = p:clone()\n",
    "local px = p_:select(2,1)\n",
    "local py = p_:select(2,2)\n",
    "px = (px - px:min()) / (px:max() - px:min())\n",
    "py = (py - py:min()) / (py:max() - py:min())\n",
    "local im = torch.FloatTensor(1,s[1],s[2]):fill(0)\n",
    "for i,v in ipairs(images:split(1)) do\n",
    "    local x = math.ceil(b + px[i]*s[1]*0.95)\n",
    "    local y = math.ceil(b + py[i]*s[2]*0.95)\n",
    "    local scaled = image.scale(v,b,b)\n",
    "    im[{{},{x-b/2,x+b/2-1},{y-b/2,y+b/2-1}}]:add(scaled)\n",
    "end\n",
    "itorch.image(-im+1)"
   ]
  },
  {
   "cell_type": "markdown",
   "metadata": {},
   "source": [
    "# Homework\n",
    "\n",
    "As a homework you can try the following:\n",
    " * Visualize t-SNE embedding over training, started from randomly initialized network\n",
    " * Try more complicated network structure, e.g. convolutional network, LeNet\n",
    " * Experiment with different optimization methods, try ADAM or L-BFGS\n",
    " * Try out another loss function"
   ]
  },
  {
   "cell_type": "code",
   "execution_count": null,
   "metadata": {
    "collapsed": true
   },
   "outputs": [],
   "source": []
  }
 ],
 "metadata": {
  "kernelspec": {
   "display_name": "iTorch",
   "language": "lua",
   "name": "itorch"
  },
  "language_info": {
   "name": "lua",
   "version": "5.1"
  }
 },
 "nbformat": 4,
 "nbformat_minor": 0
}
