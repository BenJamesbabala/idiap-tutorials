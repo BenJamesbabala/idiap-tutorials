{
 "cells": [
  {
   "cell_type": "markdown",
   "metadata": {},
   "source": [
    "# torch-autograd example\n",
    "\n",
    "In this example we show how to train a model without torch nn layers.\n",
    "We define an arbitrary function using `torch.` operators, which are automatically differentiated\n",
    "into a neural network model. This is useful in case of complicated models, or 2-nd order derivatives needed.\n",
    "\n",
    "In the end we will do t-SNE embedding of the learned features.\n",
    "\n",
    "The notebook can run without GPU support and needs the following rocks:\n",
    "\n",
    "```\n",
    "luarocks install autograd\n",
    "luarocks install mnist\n",
    "luarocks install manifold\n",
    "```"
   ]
  },
  {
   "cell_type": "code",
   "execution_count": 1,
   "metadata": {
    "collapsed": false
   },
   "outputs": [],
   "source": [
    "-- normally we would avoid having global variables\n",
    "-- but local variables live only in one cell\n",
    "\n",
    "grad = require 'autograd'       -- automatic differentiation \n",
    "mnist = require 'mnist'         -- MNIST dataset loader\n",
    "manifold = require 'manifold'   -- for t-SNE embeddings\n",
    "optim = require 'optim'\n",
    "\n",
    "grad.optimize(true) -- will make autograd optimize graphs by default"
   ]
  },
  {
   "cell_type": "code",
   "execution_count": 2,
   "metadata": {
    "collapsed": true
   },
   "outputs": [],
   "source": [
    "-- define all parameters in this structure\n",
    "opt = {\n",
    "   learningRate = 1e-1,\n",
    "   learningRateDecayRatio = 0.1,\n",
    "   momentum = 0.9,\n",
    "   weightDecay = 0.0005,\n",
    "   dampening = 0,\n",
    "   type = 'float',\n",
    "   batchSize = 128,\n",
    "}"
   ]
  },
  {
   "cell_type": "markdown",
   "metadata": {},
   "source": [
    "## MLP model definition"
   ]
  },
  {
   "cell_type": "code",
   "execution_count": 3,
   "metadata": {
    "collapsed": false
   },
   "outputs": [],
   "source": [
    "-- define a simple NN layer W * x + b\n",
    "function Linear(params, x)\n",
    "   local W,b = params[1], params[2]\n",
    "   local y = x * torch.transpose(W,1,2)\n",
    "   return y + torch.expandAs(b:view(1,b:size(1)), y)\n",
    "end\n",
    "\n",
    "-- create parameter tensors and initialize with Xavier-init\n",
    "function LinearParams(ni,no)\n",
    "   local stdv = 1/math.sqrt(no); \n",
    "   return {torch.randn(no,ni):uniform(-stdv,stdv), torch.zeros(no)} \n",
    "end\n",
    "\n",
    "-- cast function that supports float, double and cuda\n",
    "cast = function(x) return grad.util.cast(x, opt.type); end\n",
    "\n",
    "-- create a structure that holds all parameters\n",
    "params = cast{\n",
    "    LinearParams(28*28,512),\n",
    "    LinearParams(512,64),\n",
    "    LinearParams(64,10), \n",
    "}\n",
    "\n",
    "-- define forward propagation function, that takes\n",
    "-- * W - params structure like the one above\n",
    "-- * x - input\n",
    "-- It goes over params and computes a simple MLP with tanh\n",
    "-- activation functions\n",
    "f = function(W, x)\n",
    "   local output = x:view(-1,28*28)\n",
    "   for i,w in ipairs(W) do\n",
    "      output = Linear(w, i == 1 and output or torch.tanh(output))\n",
    "   end\n",
    "   return output\n",
    "end\n",
    "\n",
    "-- define loss functions that in addition to params\n",
    "-- and input takes targets tensor\n",
    "h = function(W, x, y_hat)\n",
    "   local y = f(W, x)\n",
    "   return grad.loss.crossEntropy(y, y_hat) / y:size(1)\n",
    "end"
   ]
  },
  {
   "cell_type": "markdown",
   "metadata": {},
   "source": [
    "## Prepare data and show a few examples"
   ]
  },
  {
   "cell_type": "code",
   "execution_count": 4,
   "metadata": {
    "collapsed": false
   },
   "outputs": [
    {
     "data": {
      "image/png": "[encoded data removed]",
      "text/plain": [
       "Console does not support images"
      ]
     },
     "metadata": {
      "image/png": {
       "height": 180,
       "width": 180
      }
     },
     "output_type": "display_data"
    }
   ],
   "source": [
    "trainData = cast(mnist.traindataset())\n",
    "testData = cast(mnist.testdataset())\n",
    "\n",
    "-- simply normalize range to [0,1] range\n",
    "trainData.label:add(1); trainData.data:div(256)\n",
    "testData.label:add(1);  testData.data:div(256)\n",
    "\n",
    "-- show a few examples from the training set\n",
    "itorch.image(trainData.data:narrow(1,1,36))"
   ]
  },
  {
   "cell_type": "markdown",
   "metadata": {},
   "source": [
    "## Training\n",
    "\n",
    "Up to this point we haven't used any dedicated nn or autograd functions, only simple torch tensors operation.\n",
    "We will now use $f$ and $h$ functions that we defined and will call autograd to do automatic differentiation to define train function, and will train the MLP on MNIST dataset"
   ]
  },
  {
   "cell_type": "code",
   "execution_count": 5,
   "metadata": {
    "collapsed": false,
    "scrolled": false
   },
   "outputs": [],
   "source": [
    "-- this function does all magic. It automatically differentiates $h$ and \n",
    "-- uses opt structure to construct structures that do SGD\n",
    "-- returned $g$ is a function that calls SGD on one minibatch\n",
    "-- that takes inputs $x$ and $y_hat$ targets \n",
    "local g = grad.optim.sgd(grad(h), grad.util.deepCopy(opt), params)\n",
    "\n",
    "function train()\n",
    "    local targets = cast(torch.Tensor(opt.batchSize,10))\n",
    "    local inputs = cast(torch.Tensor(opt.batchSize,28*28))\n",
    "    -- randomly permute the data\n",
    "    local indices = torch.randperm(trainData.data:size(1)):long():split(opt.batchSize)\n",
    "    indices[#indices] = nil -- avoid the last minibatch\n",
    "\n",
    "    local loss = 0\n",
    "    for t,v in ipairs(indices) do\n",
    "        local inputs_ = trainData.data:index(1,v)\n",
    "        local target_idx = trainData.label:index(1,v)\n",
    "        targets:zero():scatter(2,target_idx:long():view(opt.batchSize,1),1)\n",
    "        inputs:copy(inputs_)\n",
    "\n",
    "        local grads,l = g(inputs, targets)\n",
    "        loss = loss + l\n",
    "    end\n",
    "    return loss / #indices\n",
    "end\n",
    "\n",
    "function test()\n",
    "    local confusion = optim.ConfusionMatrix(10)\n",
    "    local inputs_split = testData.data:split(opt.batchSize)\n",
    "    local targets_split = testData.label:split(opt.batchSize)\n",
    "    \n",
    "    for i,v in ipairs(inputs_split) do\n",
    "        confusion:batchAdd(f(params, v), targets_split[i])\n",
    "    end\n",
    "    print(tostring(confusion))\n",
    "    return confusion.totalValid\n",
    "end"
   ]
  },
  {
   "cell_type": "markdown",
   "metadata": {},
   "source": [
    "Alright, all the functions needed are defined! let's start training and plot the loss"
   ]
  },
  {
   "cell_type": "code",
   "execution_count": 6,
   "metadata": {
    "collapsed": false,
    "scrolled": false
   },
   "outputs": [
    {
     "data": {
      "text/plain": [
       "Epoch: 1\t\n"
      ]
     },
     "execution_count": 6,
     "metadata": {},
     "output_type": "execute_result"
    },
    {
     "data": {
      "text/plain": [
       "Epoch: 2\t\n"
      ]
     },
     "execution_count": 6,
     "metadata": {},
     "output_type": "execute_result"
    },
    {
     "data": {
      "text/plain": [
       "Epoch: 3\t\n"
      ]
     },
     "execution_count": 6,
     "metadata": {},
     "output_type": "execute_result"
    },
    {
     "data": {
      "text/plain": [
       "Epoch: 4\t\n"
      ]
     },
     "execution_count": 6,
     "metadata": {},
     "output_type": "execute_result"
    },
    {
     "data": {
      "text/plain": [
       "Epoch: 5\t\n"
      ]
     },
     "execution_count": 6,
     "metadata": {},
     "output_type": "execute_result"
    },
    {
     "data": {
      "text/plain": [
       "Epoch: 6\t\n"
      ]
     },
     "execution_count": 6,
     "metadata": {},
     "output_type": "execute_result"
    },
    {
     "data": {
      "text/plain": [
       "Epoch: 7\t\n"
      ]
     },
     "execution_count": 6,
     "metadata": {},
     "output_type": "execute_result"
    },
    {
     "data": {
      "text/plain": [
       "Epoch: 8\t\n"
      ]
     },
     "execution_count": 6,
     "metadata": {},
     "output_type": "execute_result"
    },
    {
     "data": {
      "text/plain": [
       "Epoch: 9\t\n"
      ]
     },
     "execution_count": 6,
     "metadata": {},
     "output_type": "execute_result"
    },
    {
     "data": {
      "text/plain": [
       "Epoch: 10\t\n"
      ]
     },
     "execution_count": 6,
     "metadata": {},
     "output_type": "execute_result"
    },
    {
     "data": {
      "text/plain": [
       "Epoch: 11\t\n"
      ]
     },
     "execution_count": 6,
     "metadata": {},
     "output_type": "execute_result"
    },
    {
     "data": {
      "text/plain": [
       "Epoch: 12\t\n"
      ]
     },
     "execution_count": 6,
     "metadata": {},
     "output_type": "execute_result"
    },
    {
     "data": {
      "text/plain": [
       "Epoch: 13\t\n"
      ]
     },
     "execution_count": 6,
     "metadata": {},
     "output_type": "execute_result"
    },
    {
     "data": {
      "text/plain": [
       "Epoch: 14\t\n"
      ]
     },
     "execution_count": 6,
     "metadata": {},
     "output_type": "execute_result"
    },
    {
     "data": {
      "text/plain": [
       "Epoch: 15\t\n"
      ]
     },
     "execution_count": 6,
     "metadata": {},
     "output_type": "execute_result"
    },
    {
     "data": {
      "text/plain": [
       "Epoch: 16\t\n"
      ]
     },
     "execution_count": 6,
     "metadata": {},
     "output_type": "execute_result"
    },
    {
     "data": {
      "text/plain": [
       "Epoch: 17\t\n"
      ]
     },
     "execution_count": 6,
     "metadata": {},
     "output_type": "execute_result"
    },
    {
     "data": {
      "text/plain": [
       "Epoch: 18\t\n"
      ]
     },
     "execution_count": 6,
     "metadata": {},
     "output_type": "execute_result"
    },
    {
     "data": {
      "text/plain": [
       "Epoch: 19\t\n"
      ]
     },
     "execution_count": 6,
     "metadata": {},
     "output_type": "execute_result"
    },
    {
     "data": {
      "text/plain": [
       "Epoch: 20\t\n"
      ]
     },
     "execution_count": 6,
     "metadata": {},
     "output_type": "execute_result"
    },
    {
     "data": {
      "text/html": [
       "<script type=\"text/javascript\">\n",
       "$(function() {\n",
       "    if (typeof (window._bokeh_onload_callbacks) === \"undefined\"){\n",
       "  window._bokeh_onload_callbacks = [];\n",
       "    }\n",
       "    function load_lib(url, callback){\n",
       "  window._bokeh_onload_callbacks.push(callback);\n",
       "  if (window._bokeh_is_loading){\n",
       "      console.log(\"Bokeh: BokehJS is being loaded, scheduling callback at\", new Date());\n",
       "      return null;\n",
       "  }\n",
       "  console.log(\"Bokeh: BokehJS not loaded, scheduling load and callback at\", new Date());\n",
       "  window._bokeh_is_loading = true;\n",
       "  var s = document.createElement('script');\n",
       "  s.src = url;\n",
       "  s.async = true;\n",
       "  s.onreadystatechange = s.onload = function(){\n",
       "      Bokeh.embed.inject_css(\"https://cdn.pydata.org/bokeh-0.7.0.min.css\");\n",
       "      window._bokeh_onload_callbacks.forEach(function(callback){callback()});\n",
       "  };\n",
       "  s.onerror = function(){\n",
       "      console.warn(\"failed to load library \" + url);\n",
       "  };\n",
       "  document.getElementsByTagName(\"head\")[0].appendChild(s);\n",
       "    }\n",
       "\n",
       "    bokehjs_url = \"https://cdn.pydata.org/bokeh-0.7.0.min.js\"\n",
       "\n",
       "    var elt = document.getElementById(\"3f6751a2-733b-4934-c931-1d1d86374e94\");\n",
       "    if(elt==null) {\n",
       "  console.log(\"Bokeh: ERROR: autoload.js configured with elementid '3f6751a2-733b-4934-c931-1d1d86374e94'\"\n",
       "        + \"but no matching script tag was found. \")\n",
       "  return false;\n",
       "    }\n",
       "\n",
       "    if(typeof(Bokeh) !== \"undefined\") {\n",
       "  console.log(\"Bokeh: BokehJS loaded, going straight to plotting\");\n",
       "  var modelid = \"295bbb71-c767-4e62-cea9-fd82614afb58\";\n",
       "  var modeltype = \"Plot\";\n",
       "  var all_models = [{\"id\":\"676a8e95-a689-4ce2-ccdf-bc8ad9f32418\",\"type\":\"ColumnDataSource\",\"attributes\":{\"data\":{\"y\":[5.2165369723653,5.0629480951903,5.0247417947468,5.0014885457105,4.9871319813065,4.9746219818679,4.9662244644525,4.9584697412693,4.9543620932083,4.9486642381988,4.9439307498371,4.9419521022684,4.9404585726289,4.9363980409649,4.9361048844826,4.9331994622818,4.9311057401296,4.9315270225669,4.9295431435681,4.9299420100103],\"x\":[1,2,3,4,5,6,7,8,9,10,11,12,13,14,15,16,17,18,19,20]},\"column_names\":[\"y\",\"x\"],\"cont_ranges\":{},\"discrete_ranges\":{},\"selected\":[],\"id\":\"676a8e95-a689-4ce2-ccdf-bc8ad9f32418\",\"doc\":null,\"tags\":[]}},{\"id\":\"525beeef-1526-4bb9-cbcf-5fed4d9e2200\",\"type\":\"Line\",\"attributes\":{\"fill_alpha\":{\"units\":\"data\",\"value\":0.2},\"line_alpha\":{\"units\":\"data\",\"value\":1},\"doc\":null,\"size\":{\"units\":\"screen\",\"value\":10},\"fill_color\":{\"value\":\"red\"},\"line_color\":{\"value\":\"red\"},\"x\":{\"units\":\"data\",\"field\":\"x\"},\"id\":\"525beeef-1526-4bb9-cbcf-5fed4d9e2200\",\"y\":{\"units\":\"data\",\"field\":\"y\"},\"tags\":[]}},{\"id\":\"fb8d1727-b786-45ce-c531-9c54b5609220\",\"type\":\"Line\",\"attributes\":{\"fill_alpha\":{\"units\":\"data\",\"value\":0.2},\"line_alpha\":{\"units\":\"data\",\"value\":1},\"doc\":null,\"size\":{\"units\":\"screen\",\"value\":10},\"fill_color\":{\"value\":\"red\"},\"line_color\":{\"value\":\"red\"},\"x\":{\"units\":\"data\",\"field\":\"x\"},\"id\":\"fb8d1727-b786-45ce-c531-9c54b5609220\",\"y\":{\"units\":\"data\",\"field\":\"y\"},\"tags\":[]}},{\"id\":\"598729a1-0cf7-497a-c946-bb2b6c2bb0b4\",\"type\":\"GlyphRenderer\",\"attributes\":{\"name\":null,\"nonselection_glyph\":{\"type\":\"Line\",\"id\":\"fb8d1727-b786-45ce-c531-9c54b5609220\"},\"doc\":null,\"server_data_source\":null,\"data_source\":{\"type\":\"ColumnDataSource\",\"id\":\"676a8e95-a689-4ce2-ccdf-bc8ad9f32418\"},\"glyph\":{\"type\":\"Line\",\"id\":\"525beeef-1526-4bb9-cbcf-5fed4d9e2200\"},\"selection_glyph\":null,\"id\":\"598729a1-0cf7-497a-c946-bb2b6c2bb0b4\",\"tags\":[]}},{\"id\":\"294bc1d6-012f-4c1b-ccc7-8ff65da8cfb9\",\"type\":\"DataRange1d\",\"attributes\":{\"sources\":[{\"columns\":[\"x\"],\"source\":{\"type\":\"ColumnDataSource\",\"id\":\"676a8e95-a689-4ce2-ccdf-bc8ad9f32418\"}}],\"id\":\"294bc1d6-012f-4c1b-ccc7-8ff65da8cfb9\",\"tags\":[],\"doc\":null}},{\"id\":\"8065d0d8-e099-4afe-ca1c-cd2fa32b7fc2\",\"type\":\"DataRange1d\",\"attributes\":{\"sources\":[{\"columns\":[\"y\"],\"source\":{\"type\":\"ColumnDataSource\",\"id\":\"676a8e95-a689-4ce2-ccdf-bc8ad9f32418\"}}],\"id\":\"8065d0d8-e099-4afe-ca1c-cd2fa32b7fc2\",\"tags\":[],\"doc\":null}},{\"id\":\"b8bff12f-b404-43d6-c3ca-4404aedee39e\",\"type\":\"ToolEvents\",\"attributes\":{\"tags\":[],\"id\":\"b8bff12f-b404-43d6-c3ca-4404aedee39e\",\"geometries\":[],\"doc\":null}},{\"id\":\"90ac4a97-417d-4903-c98b-ed9a675d4918\",\"type\":\"BasicTickFormatter\",\"attributes\":{\"id\":\"90ac4a97-417d-4903-c98b-ed9a675d4918\",\"tags\":[],\"doc\":null}},{\"id\":\"50ab886e-2ffc-4562-c531-022fe52b2fa8\",\"type\":\"BasicTicker\",\"attributes\":{\"num_minor_ticks\":5,\"id\":\"50ab886e-2ffc-4562-c531-022fe52b2fa8\",\"tags\":[],\"doc\":null}},{\"id\":\"22748664-18c5-491a-c983-aa6519a2cf3d\",\"type\":\"LinearAxis\",\"attributes\":{\"formatter\":{\"type\":\"BasicTickFormatter\",\"id\":\"90ac4a97-417d-4903-c98b-ed9a675d4918\"},\"ticker\":{\"type\":\"BasicTicker\",\"id\":\"50ab886e-2ffc-4562-c531-022fe52b2fa8\"},\"plot\":{\"id\":\"295bbb71-c767-4e62-cea9-fd82614afb58\",\"type\":\"Plot\",\"subtype\":\"Figure\"},\"axis_label\":null,\"id\":\"22748664-18c5-491a-c983-aa6519a2cf3d\",\"doc\":null,\"tags\":[]}},{\"id\":\"dfc5d210-21c2-4941-c9e8-e315d3e43f11\",\"type\":\"Grid\",\"attributes\":{\"dimension\":0,\"plot\":{\"id\":\"295bbb71-c767-4e62-cea9-fd82614afb58\",\"type\":\"Plot\",\"subtype\":\"Figure\"},\"ticker\":{\"type\":\"BasicTicker\",\"id\":\"50ab886e-2ffc-4562-c531-022fe52b2fa8\"},\"id\":\"dfc5d210-21c2-4941-c9e8-e315d3e43f11\",\"doc\":null,\"tags\":[]}},{\"id\":\"dbcc3eaa-b727-47b6-c720-42663355dce0\",\"type\":\"BasicTickFormatter\",\"attributes\":{\"id\":\"dbcc3eaa-b727-47b6-c720-42663355dce0\",\"tags\":[],\"doc\":null}},{\"id\":\"5009ef23-82c9-4a61-ca83-74682f17fda2\",\"type\":\"BasicTicker\",\"attributes\":{\"num_minor_ticks\":5,\"id\":\"5009ef23-82c9-4a61-ca83-74682f17fda2\",\"tags\":[],\"doc\":null}},{\"id\":\"cb31dc76-94d6-465b-c6f7-be2f9280a00e\",\"type\":\"LinearAxis\",\"attributes\":{\"formatter\":{\"type\":\"BasicTickFormatter\",\"id\":\"dbcc3eaa-b727-47b6-c720-42663355dce0\"},\"ticker\":{\"type\":\"BasicTicker\",\"id\":\"5009ef23-82c9-4a61-ca83-74682f17fda2\"},\"plot\":{\"id\":\"295bbb71-c767-4e62-cea9-fd82614afb58\",\"type\":\"Plot\",\"subtype\":\"Figure\"},\"axis_label\":null,\"id\":\"cb31dc76-94d6-465b-c6f7-be2f9280a00e\",\"doc\":null,\"tags\":[]}},{\"id\":\"2ce6d563-645b-437e-c3e5-955c0880629e\",\"type\":\"Grid\",\"attributes\":{\"dimension\":1,\"plot\":{\"id\":\"295bbb71-c767-4e62-cea9-fd82614afb58\",\"type\":\"Plot\",\"subtype\":\"Figure\"},\"ticker\":{\"type\":\"BasicTicker\",\"id\":\"5009ef23-82c9-4a61-ca83-74682f17fda2\"},\"id\":\"2ce6d563-645b-437e-c3e5-955c0880629e\",\"doc\":null,\"tags\":[]}},{\"id\":\"ae9bdc2a-8636-481f-c89f-c93e65dd2be2\",\"type\":\"PanTool\",\"attributes\":{\"plot\":{\"id\":\"295bbb71-c767-4e62-cea9-fd82614afb58\",\"type\":\"Plot\",\"subtype\":\"Figure\"},\"dimensions\":[\"width\",\"height\"],\"id\":\"ae9bdc2a-8636-481f-c89f-c93e65dd2be2\",\"doc\":null,\"tags\":[]}},{\"id\":\"6ea307e2-93aa-4cdd-cc53-0fe234bdd645\",\"type\":\"WheelZoomTool\",\"attributes\":{\"plot\":{\"id\":\"295bbb71-c767-4e62-cea9-fd82614afb58\",\"type\":\"Plot\",\"subtype\":\"Figure\"},\"dimensions\":[\"width\",\"height\"],\"id\":\"6ea307e2-93aa-4cdd-cc53-0fe234bdd645\",\"doc\":null,\"tags\":[]}},{\"id\":\"16ca4d4e-69df-4fa1-cf2a-9b4b1287e209\",\"type\":\"BoxZoomTool\",\"attributes\":{\"plot\":{\"id\":\"295bbb71-c767-4e62-cea9-fd82614afb58\",\"type\":\"Plot\",\"subtype\":\"Figure\"},\"id\":\"16ca4d4e-69df-4fa1-cf2a-9b4b1287e209\",\"tags\":[],\"doc\":null}},{\"id\":\"bc15cc70-ce9e-41f7-c15e-cf43818825f6\",\"type\":\"PreviewSaveTool\",\"attributes\":{\"plot\":{\"id\":\"295bbb71-c767-4e62-cea9-fd82614afb58\",\"type\":\"Plot\",\"subtype\":\"Figure\"},\"id\":\"bc15cc70-ce9e-41f7-c15e-cf43818825f6\",\"tags\":[],\"doc\":null}},{\"id\":\"f58a716c-0919-4ed1-ce81-4532f5591c71\",\"type\":\"ResizeTool\",\"attributes\":{\"plot\":{\"id\":\"295bbb71-c767-4e62-cea9-fd82614afb58\",\"type\":\"Plot\",\"subtype\":\"Figure\"},\"id\":\"f58a716c-0919-4ed1-ce81-4532f5591c71\",\"tags\":[],\"doc\":null}},{\"id\":\"7d0e3034-00f9-433f-c303-8ee9f15f43eb\",\"type\":\"ResetTool\",\"attributes\":{\"plot\":{\"id\":\"295bbb71-c767-4e62-cea9-fd82614afb58\",\"type\":\"Plot\",\"subtype\":\"Figure\"},\"id\":\"7d0e3034-00f9-433f-c303-8ee9f15f43eb\",\"tags\":[],\"doc\":null}},{\"id\":\"295bbb71-c767-4e62-cea9-fd82614afb58\",\"type\":\"Plot\",\"attributes\":{\"x_range\":{\"type\":\"DataRange1d\",\"id\":\"294bc1d6-012f-4c1b-ccc7-8ff65da8cfb9\"},\"tool_events\":{\"type\":\"ToolEvents\",\"id\":\"b8bff12f-b404-43d6-c3ca-4404aedee39e\"},\"below\":[{\"type\":\"LinearAxis\",\"id\":\"22748664-18c5-491a-c983-aa6519a2cf3d\"}],\"renderers\":[{\"type\":\"GlyphRenderer\",\"id\":\"598729a1-0cf7-497a-c946-bb2b6c2bb0b4\"},{\"type\":\"LinearAxis\",\"id\":\"22748664-18c5-491a-c983-aa6519a2cf3d\"},{\"type\":\"Grid\",\"id\":\"dfc5d210-21c2-4941-c9e8-e315d3e43f11\"},{\"type\":\"LinearAxis\",\"id\":\"cb31dc76-94d6-465b-c6f7-be2f9280a00e\"},{\"type\":\"Grid\",\"id\":\"2ce6d563-645b-437e-c3e5-955c0880629e\"}],\"above\":[],\"tools\":[{\"type\":\"PanTool\",\"id\":\"ae9bdc2a-8636-481f-c89f-c93e65dd2be2\"},{\"type\":\"WheelZoomTool\",\"id\":\"6ea307e2-93aa-4cdd-cc53-0fe234bdd645\"},{\"type\":\"BoxZoomTool\",\"id\":\"16ca4d4e-69df-4fa1-cf2a-9b4b1287e209\"},{\"type\":\"PreviewSaveTool\",\"id\":\"bc15cc70-ce9e-41f7-c15e-cf43818825f6\"},{\"type\":\"ResizeTool\",\"id\":\"f58a716c-0919-4ed1-ce81-4532f5591c71\"},{\"type\":\"ResetTool\",\"id\":\"7d0e3034-00f9-433f-c303-8ee9f15f43eb\"}],\"doc\":null,\"right\":[],\"title\":\"Untitled Plot\",\"extra_x_ranges\":{},\"left\":[{\"type\":\"LinearAxis\",\"id\":\"cb31dc76-94d6-465b-c6f7-be2f9280a00e\"}],\"y_range\":{\"type\":\"DataRange1d\",\"id\":\"8065d0d8-e099-4afe-ca1c-cd2fa32b7fc2\"},\"id\":\"295bbb71-c767-4e62-cea9-fd82614afb58\",\"extra_y_ranges\":{},\"tags\":[]}}];\n",
       "  Bokeh.load_models(all_models);\n",
       "  var model = Bokeh.Collections(modeltype).get(modelid);\n",
       "  $(\"#3f6751a2-733b-4934-c931-1d1d86374e94\").html(''); // clear any previous plot in window_id\n",
       "  var view = new model.default_view({model: model, el: \"#3f6751a2-733b-4934-c931-1d1d86374e94\"});\n",
       "    } else {\n",
       "  load_lib(bokehjs_url, function() {\n",
       "      console.log(\"Bokeh: BokehJS plotting callback run at\", new Date())\n",
       "      var modelid = \"295bbb71-c767-4e62-cea9-fd82614afb58\";\n",
       "      var modeltype = \"Plot\";\n",
       "      var all_models = [{\"id\":\"676a8e95-a689-4ce2-ccdf-bc8ad9f32418\",\"type\":\"ColumnDataSource\",\"attributes\":{\"data\":{\"y\":[5.2165369723653,5.0629480951903,5.0247417947468,5.0014885457105,4.9871319813065,4.9746219818679,4.9662244644525,4.9584697412693,4.9543620932083,4.9486642381988,4.9439307498371,4.9419521022684,4.9404585726289,4.9363980409649,4.9361048844826,4.9331994622818,4.9311057401296,4.9315270225669,4.9295431435681,4.9299420100103],\"x\":[1,2,3,4,5,6,7,8,9,10,11,12,13,14,15,16,17,18,19,20]},\"column_names\":[\"y\",\"x\"],\"cont_ranges\":{},\"discrete_ranges\":{},\"selected\":[],\"id\":\"676a8e95-a689-4ce2-ccdf-bc8ad9f32418\",\"doc\":null,\"tags\":[]}},{\"id\":\"525beeef-1526-4bb9-cbcf-5fed4d9e2200\",\"type\":\"Line\",\"attributes\":{\"fill_alpha\":{\"units\":\"data\",\"value\":0.2},\"line_alpha\":{\"units\":\"data\",\"value\":1},\"doc\":null,\"size\":{\"units\":\"screen\",\"value\":10},\"fill_color\":{\"value\":\"red\"},\"line_color\":{\"value\":\"red\"},\"x\":{\"units\":\"data\",\"field\":\"x\"},\"id\":\"525beeef-1526-4bb9-cbcf-5fed4d9e2200\",\"y\":{\"units\":\"data\",\"field\":\"y\"},\"tags\":[]}},{\"id\":\"fb8d1727-b786-45ce-c531-9c54b5609220\",\"type\":\"Line\",\"attributes\":{\"fill_alpha\":{\"units\":\"data\",\"value\":0.2},\"line_alpha\":{\"units\":\"data\",\"value\":1},\"doc\":null,\"size\":{\"units\":\"screen\",\"value\":10},\"fill_color\":{\"value\":\"red\"},\"line_color\":{\"value\":\"red\"},\"x\":{\"units\":\"data\",\"field\":\"x\"},\"id\":\"fb8d1727-b786-45ce-c531-9c54b5609220\",\"y\":{\"units\":\"data\",\"field\":\"y\"},\"tags\":[]}},{\"id\":\"598729a1-0cf7-497a-c946-bb2b6c2bb0b4\",\"type\":\"GlyphRenderer\",\"attributes\":{\"name\":null,\"nonselection_glyph\":{\"type\":\"Line\",\"id\":\"fb8d1727-b786-45ce-c531-9c54b5609220\"},\"doc\":null,\"server_data_source\":null,\"data_source\":{\"type\":\"ColumnDataSource\",\"id\":\"676a8e95-a689-4ce2-ccdf-bc8ad9f32418\"},\"glyph\":{\"type\":\"Line\",\"id\":\"525beeef-1526-4bb9-cbcf-5fed4d9e2200\"},\"selection_glyph\":null,\"id\":\"598729a1-0cf7-497a-c946-bb2b6c2bb0b4\",\"tags\":[]}},{\"id\":\"294bc1d6-012f-4c1b-ccc7-8ff65da8cfb9\",\"type\":\"DataRange1d\",\"attributes\":{\"sources\":[{\"columns\":[\"x\"],\"source\":{\"type\":\"ColumnDataSource\",\"id\":\"676a8e95-a689-4ce2-ccdf-bc8ad9f32418\"}}],\"id\":\"294bc1d6-012f-4c1b-ccc7-8ff65da8cfb9\",\"tags\":[],\"doc\":null}},{\"id\":\"8065d0d8-e099-4afe-ca1c-cd2fa32b7fc2\",\"type\":\"DataRange1d\",\"attributes\":{\"sources\":[{\"columns\":[\"y\"],\"source\":{\"type\":\"ColumnDataSource\",\"id\":\"676a8e95-a689-4ce2-ccdf-bc8ad9f32418\"}}],\"id\":\"8065d0d8-e099-4afe-ca1c-cd2fa32b7fc2\",\"tags\":[],\"doc\":null}},{\"id\":\"b8bff12f-b404-43d6-c3ca-4404aedee39e\",\"type\":\"ToolEvents\",\"attributes\":{\"tags\":[],\"id\":\"b8bff12f-b404-43d6-c3ca-4404aedee39e\",\"geometries\":[],\"doc\":null}},{\"id\":\"90ac4a97-417d-4903-c98b-ed9a675d4918\",\"type\":\"BasicTickFormatter\",\"attributes\":{\"id\":\"90ac4a97-417d-4903-c98b-ed9a675d4918\",\"tags\":[],\"doc\":null}},{\"id\":\"50ab886e-2ffc-4562-c531-022fe52b2fa8\",\"type\":\"BasicTicker\",\"attributes\":{\"num_minor_ticks\":5,\"id\":\"50ab886e-2ffc-4562-c531-022fe52b2fa8\",\"tags\":[],\"doc\":null}},{\"id\":\"22748664-18c5-491a-c983-aa6519a2cf3d\",\"type\":\"LinearAxis\",\"attributes\":{\"formatter\":{\"type\":\"BasicTickFormatter\",\"id\":\"90ac4a97-417d-4903-c98b-ed9a675d4918\"},\"ticker\":{\"type\":\"BasicTicker\",\"id\":\"50ab886e-2ffc-4562-c531-022fe52b2fa8\"},\"plot\":{\"id\":\"295bbb71-c767-4e62-cea9-fd82614afb58\",\"type\":\"Plot\",\"subtype\":\"Figure\"},\"axis_label\":null,\"id\":\"22748664-18c5-491a-c983-aa6519a2cf3d\",\"doc\":null,\"tags\":[]}},{\"id\":\"dfc5d210-21c2-4941-c9e8-e315d3e43f11\",\"type\":\"Grid\",\"attributes\":{\"dimension\":0,\"plot\":{\"id\":\"295bbb71-c767-4e62-cea9-fd82614afb58\",\"type\":\"Plot\",\"subtype\":\"Figure\"},\"ticker\":{\"type\":\"BasicTicker\",\"id\":\"50ab886e-2ffc-4562-c531-022fe52b2fa8\"},\"id\":\"dfc5d210-21c2-4941-c9e8-e315d3e43f11\",\"doc\":null,\"tags\":[]}},{\"id\":\"dbcc3eaa-b727-47b6-c720-42663355dce0\",\"type\":\"BasicTickFormatter\",\"attributes\":{\"id\":\"dbcc3eaa-b727-47b6-c720-42663355dce0\",\"tags\":[],\"doc\":null}},{\"id\":\"5009ef23-82c9-4a61-ca83-74682f17fda2\",\"type\":\"BasicTicker\",\"attributes\":{\"num_minor_ticks\":5,\"id\":\"5009ef23-82c9-4a61-ca83-74682f17fda2\",\"tags\":[],\"doc\":null}},{\"id\":\"cb31dc76-94d6-465b-c6f7-be2f9280a00e\",\"type\":\"LinearAxis\",\"attributes\":{\"formatter\":{\"type\":\"BasicTickFormatter\",\"id\":\"dbcc3eaa-b727-47b6-c720-42663355dce0\"},\"ticker\":{\"type\":\"BasicTicker\",\"id\":\"5009ef23-82c9-4a61-ca83-74682f17fda2\"},\"plot\":{\"id\":\"295bbb71-c767-4e62-cea9-fd82614afb58\",\"type\":\"Plot\",\"subtype\":\"Figure\"},\"axis_label\":null,\"id\":\"cb31dc76-94d6-465b-c6f7-be2f9280a00e\",\"doc\":null,\"tags\":[]}},{\"id\":\"2ce6d563-645b-437e-c3e5-955c0880629e\",\"type\":\"Grid\",\"attributes\":{\"dimension\":1,\"plot\":{\"id\":\"295bbb71-c767-4e62-cea9-fd82614afb58\",\"type\":\"Plot\",\"subtype\":\"Figure\"},\"ticker\":{\"type\":\"BasicTicker\",\"id\":\"5009ef23-82c9-4a61-ca83-74682f17fda2\"},\"id\":\"2ce6d563-645b-437e-c3e5-955c0880629e\",\"doc\":null,\"tags\":[]}},{\"id\":\"ae9bdc2a-8636-481f-c89f-c93e65dd2be2\",\"type\":\"PanTool\",\"attributes\":{\"plot\":{\"id\":\"295bbb71-c767-4e62-cea9-fd82614afb58\",\"type\":\"Plot\",\"subtype\":\"Figure\"},\"dimensions\":[\"width\",\"height\"],\"id\":\"ae9bdc2a-8636-481f-c89f-c93e65dd2be2\",\"doc\":null,\"tags\":[]}},{\"id\":\"6ea307e2-93aa-4cdd-cc53-0fe234bdd645\",\"type\":\"WheelZoomTool\",\"attributes\":{\"plot\":{\"id\":\"295bbb71-c767-4e62-cea9-fd82614afb58\",\"type\":\"Plot\",\"subtype\":\"Figure\"},\"dimensions\":[\"width\",\"height\"],\"id\":\"6ea307e2-93aa-4cdd-cc53-0fe234bdd645\",\"doc\":null,\"tags\":[]}},{\"id\":\"16ca4d4e-69df-4fa1-cf2a-9b4b1287e209\",\"type\":\"BoxZoomTool\",\"attributes\":{\"plot\":{\"id\":\"295bbb71-c767-4e62-cea9-fd82614afb58\",\"type\":\"Plot\",\"subtype\":\"Figure\"},\"id\":\"16ca4d4e-69df-4fa1-cf2a-9b4b1287e209\",\"tags\":[],\"doc\":null}},{\"id\":\"bc15cc70-ce9e-41f7-c15e-cf43818825f6\",\"type\":\"PreviewSaveTool\",\"attributes\":{\"plot\":{\"id\":\"295bbb71-c767-4e62-cea9-fd82614afb58\",\"type\":\"Plot\",\"subtype\":\"Figure\"},\"id\":\"bc15cc70-ce9e-41f7-c15e-cf43818825f6\",\"tags\":[],\"doc\":null}},{\"id\":\"f58a716c-0919-4ed1-ce81-4532f5591c71\",\"type\":\"ResizeTool\",\"attributes\":{\"plot\":{\"id\":\"295bbb71-c767-4e62-cea9-fd82614afb58\",\"type\":\"Plot\",\"subtype\":\"Figure\"},\"id\":\"f58a716c-0919-4ed1-ce81-4532f5591c71\",\"tags\":[],\"doc\":null}},{\"id\":\"7d0e3034-00f9-433f-c303-8ee9f15f43eb\",\"type\":\"ResetTool\",\"attributes\":{\"plot\":{\"id\":\"295bbb71-c767-4e62-cea9-fd82614afb58\",\"type\":\"Plot\",\"subtype\":\"Figure\"},\"id\":\"7d0e3034-00f9-433f-c303-8ee9f15f43eb\",\"tags\":[],\"doc\":null}},{\"id\":\"295bbb71-c767-4e62-cea9-fd82614afb58\",\"type\":\"Plot\",\"attributes\":{\"x_range\":{\"type\":\"DataRange1d\",\"id\":\"294bc1d6-012f-4c1b-ccc7-8ff65da8cfb9\"},\"tool_events\":{\"type\":\"ToolEvents\",\"id\":\"b8bff12f-b404-43d6-c3ca-4404aedee39e\"},\"below\":[{\"type\":\"LinearAxis\",\"id\":\"22748664-18c5-491a-c983-aa6519a2cf3d\"}],\"renderers\":[{\"type\":\"GlyphRenderer\",\"id\":\"598729a1-0cf7-497a-c946-bb2b6c2bb0b4\"},{\"type\":\"LinearAxis\",\"id\":\"22748664-18c5-491a-c983-aa6519a2cf3d\"},{\"type\":\"Grid\",\"id\":\"dfc5d210-21c2-4941-c9e8-e315d3e43f11\"},{\"type\":\"LinearAxis\",\"id\":\"cb31dc76-94d6-465b-c6f7-be2f9280a00e\"},{\"type\":\"Grid\",\"id\":\"2ce6d563-645b-437e-c3e5-955c0880629e\"}],\"above\":[],\"tools\":[{\"type\":\"PanTool\",\"id\":\"ae9bdc2a-8636-481f-c89f-c93e65dd2be2\"},{\"type\":\"WheelZoomTool\",\"id\":\"6ea307e2-93aa-4cdd-cc53-0fe234bdd645\"},{\"type\":\"BoxZoomTool\",\"id\":\"16ca4d4e-69df-4fa1-cf2a-9b4b1287e209\"},{\"type\":\"PreviewSaveTool\",\"id\":\"bc15cc70-ce9e-41f7-c15e-cf43818825f6\"},{\"type\":\"ResizeTool\",\"id\":\"f58a716c-0919-4ed1-ce81-4532f5591c71\"},{\"type\":\"ResetTool\",\"id\":\"7d0e3034-00f9-433f-c303-8ee9f15f43eb\"}],\"doc\":null,\"right\":[],\"title\":\"Untitled Plot\",\"extra_x_ranges\":{},\"left\":[{\"type\":\"LinearAxis\",\"id\":\"cb31dc76-94d6-465b-c6f7-be2f9280a00e\"}],\"y_range\":{\"type\":\"DataRange1d\",\"id\":\"8065d0d8-e099-4afe-ca1c-cd2fa32b7fc2\"},\"id\":\"295bbb71-c767-4e62-cea9-fd82614afb58\",\"extra_y_ranges\":{},\"tags\":[]}}];\n",
       "      Bokeh.load_models(all_models);\n",
       "      var model = Bokeh.Collections(modeltype).get(modelid);\n",
       "      $(\"#3f6751a2-733b-4934-c931-1d1d86374e94\").html(''); // clear any previous plot in window_id\n",
       "      var view = new model.default_view({model: model, el: \"#3f6751a2-733b-4934-c931-1d1d86374e94\"});\n",
       "  });\n",
       "    }\n",
       "});\n",
       "</script>\n",
       "<div class=\"plotdiv\" id=\"3f6751a2-733b-4934-c931-1d1d86374e94\"></div>\n"
      ]
     },
     "metadata": {},
     "output_type": "display_data"
    }
   ],
   "source": [
    "local Plot = require 'itorch.Plot'\n",
    "\n",
    "local nEpochs = 20\n",
    "\n",
    "local losses = {}\n",
    "for i=1,nEpochs do\n",
    "    print('Epoch: '..i)\n",
    "    table.insert(losses, train())\n",
    "end\n",
    "\n",
    "Plot():line(torch.range(1,#losses), torch.Tensor(losses)):draw()"
   ]
  },
  {
   "cell_type": "code",
   "execution_count": 7,
   "metadata": {
    "collapsed": false
   },
   "outputs": [],
   "source": [
    "-- print confusion matrix\n",
    "test()"
   ]
  },
  {
   "cell_type": "markdown",
   "metadata": {},
   "source": [
    "## Visualize t-SNE embedding of the learned features\n",
    "\n",
    "t-Distributed Stochastic Neighbor Embedding (t-SNE) is a (prize-winning) technique\n",
    "for dimensionality reduction that is particularly well suited for the visualization\n",
    "of high-dimensional datasets. The technique can be implemented via Barnes-Hut approximations,\n",
    "allowing it to be applied on large real-world datasets.\n",
    "\n",
    "For more information see https://lvdmaaten.github.io/tsne/"
   ]
  },
  {
   "cell_type": "code",
   "execution_count": 8,
   "metadata": {
    "collapsed": false,
    "scrolled": false
   },
   "outputs": [
    {
     "data": {
      "text/plain": [
       "ConfusionMatrix:\n",
       "[[     971       0       1       0       0       0       3       1       3       1]   99.082% \n",
       " [       0    1123       3       1       0       1       3       1       3       0]   98.943% \n",
       " [       4       1    1005       3       3       0       4       6       6       0]   97.384% \n",
       " [       0       0       3     997       0       2       0       3       5       0]   98.713% \n",
       " [       0       0       1       0     971       0       5       2       1       2]   98.880% \n",
       " [       5       1       0       9       4     858       6       1       6       2]   96.188% \n",
       " [       6       3       0       0       3       4     939       0       3       0]   98.017% \n",
       " [       1       6      11       2       1       0       0    1003       2       2]   97.568% \n",
       " [       4       0       2       5       1       1       3       2     955       1]   98.049% \n",
       " [       4       5       0      12      28       1       0      14       7     938]]  92.963% \n",
       " + average row correct: 97.578655481339% \n",
       " + average rowUcol correct (VOC measure): 95.284997224808% \n",
       " + global correct: 97.6%\t\n",
       "0.976\t\n"
      ]
     },
     "execution_count": 8,
     "metadata": {},
     "output_type": "execute_result"
    },
    {
     "data": {
      "text/plain": [
       "extracted features size:\t 1000\n",
       "   64\n",
       "[torch.LongStorage of size 2]\n",
       "\n",
       "Computing P-values...\t\n"
      ]
     },
     "execution_count": 8,
     "metadata": {},
     "output_type": "execute_result"
    },
    {
     "data": {
      "text/plain": [
       "Running t-SNE...\t\n"
      ]
     },
     "execution_count": 8,
     "metadata": {},
     "output_type": "execute_result"
    },
    {
     "data": {
      "text/plain": [
       "Iteration 10: KL divergence is 44.832246592819\t\n"
      ]
     },
     "execution_count": 8,
     "metadata": {},
     "output_type": "execute_result"
    },
    {
     "data": {
      "text/plain": [
       "Iteration 20: KL divergence is 37.892226289938\t\n"
      ]
     },
     "execution_count": 8,
     "metadata": {},
     "output_type": "execute_result"
    },
    {
     "data": {
      "text/plain": [
       "Iteration 30: KL divergence is 36.228972974459\t\n"
      ]
     },
     "execution_count": 8,
     "metadata": {},
     "output_type": "execute_result"
    },
    {
     "data": {
      "text/plain": [
       "Iteration 40: KL divergence is 36.135559825456\t\n"
      ]
     },
     "execution_count": 8,
     "metadata": {},
     "output_type": "execute_result"
    },
    {
     "data": {
      "text/plain": [
       "Iteration 50: KL divergence is 36.168377493549\t\n"
      ]
     },
     "execution_count": 8,
     "metadata": {},
     "output_type": "execute_result"
    },
    {
     "data": {
      "text/plain": [
       "Iteration 60: KL divergence is 36.059750194989\t\n"
      ]
     },
     "execution_count": 8,
     "metadata": {},
     "output_type": "execute_result"
    },
    {
     "data": {
      "text/plain": [
       "Iteration 70: KL divergence is 36.221346905569\t\n"
      ]
     },
     "execution_count": 8,
     "metadata": {},
     "output_type": "execute_result"
    },
    {
     "data": {
      "text/plain": [
       "Iteration 80: KL divergence is 36.199052022455\t\n"
      ]
     },
     "execution_count": 8,
     "metadata": {},
     "output_type": "execute_result"
    },
    {
     "data": {
      "text/plain": [
       "Iteration 90: KL divergence is 36.177214337047\t\n"
      ]
     },
     "execution_count": 8,
     "metadata": {},
     "output_type": "execute_result"
    },
    {
     "data": {
      "text/plain": [
       "Iteration 100: KL divergence is 36.198799815465\t\n"
      ]
     },
     "execution_count": 8,
     "metadata": {},
     "output_type": "execute_result"
    },
    {
     "data": {
      "text/plain": [
       "Iteration 110: KL divergence is 36.275038084313\t\n"
      ]
     },
     "execution_count": 8,
     "metadata": {},
     "output_type": "execute_result"
    },
    {
     "data": {
      "text/plain": [
       "Iteration 120: KL divergence is 36.40139803708\t\n"
      ]
     },
     "execution_count": 8,
     "metadata": {},
     "output_type": "execute_result"
    },
    {
     "data": {
      "text/plain": [
       "Iteration 130: KL divergence is 36.417330315211\t\n"
      ]
     },
     "execution_count": 8,
     "metadata": {},
     "output_type": "execute_result"
    },
    {
     "data": {
      "text/plain": [
       "Iteration 140: KL divergence is 36.33617387188\t\n"
      ]
     },
     "execution_count": 8,
     "metadata": {},
     "output_type": "execute_result"
    },
    {
     "data": {
      "text/plain": [
       "Iteration 150: KL divergence is 36.468170785624\t\n"
      ]
     },
     "execution_count": 8,
     "metadata": {},
     "output_type": "execute_result"
    },
    {
     "data": {
      "text/plain": [
       "Iteration 160: KL divergence is 36.59012101625\t\n"
      ]
     },
     "execution_count": 8,
     "metadata": {},
     "output_type": "execute_result"
    },
    {
     "data": {
      "text/plain": [
       "Iteration 170: KL divergence is 36.653457419649\t\n"
      ]
     },
     "execution_count": 8,
     "metadata": {},
     "output_type": "execute_result"
    },
    {
     "data": {
      "text/plain": [
       "Iteration 180: KL divergence is 36.704379962344\t\n"
      ]
     },
     "execution_count": 8,
     "metadata": {},
     "output_type": "execute_result"
    },
    {
     "data": {
      "text/plain": [
       "Iteration 190: KL divergence is 36.889479682786\t\n"
      ]
     },
     "execution_count": 8,
     "metadata": {},
     "output_type": "execute_result"
    },
    {
     "data": {
      "text/plain": [
       "Iteration 200: KL divergence is 1.373272642535\t\n"
      ]
     },
     "execution_count": 8,
     "metadata": {},
     "output_type": "execute_result"
    },
    {
     "data": {
      "text/plain": [
       "Iteration 210: KL divergence is 0.92240953400252\t\n"
      ]
     },
     "execution_count": 8,
     "metadata": {},
     "output_type": "execute_result"
    },
    {
     "data": {
      "text/plain": [
       "Iteration 220: KL divergence is 0.68873145509082\t\n"
      ]
     },
     "execution_count": 8,
     "metadata": {},
     "output_type": "execute_result"
    },
    {
     "data": {
      "text/plain": [
       "Iteration 230: KL divergence is 0.62434793633371\t\n"
      ]
     },
     "execution_count": 8,
     "metadata": {},
     "output_type": "execute_result"
    },
    {
     "data": {
      "text/plain": [
       "Iteration 240: KL divergence is 0.59571542173665\t\n"
      ]
     },
     "execution_count": 8,
     "metadata": {},
     "output_type": "execute_result"
    },
    {
     "data": {
      "text/plain": [
       "Iteration 250: KL divergence is 0.58293889121261\t\n"
      ]
     },
     "execution_count": 8,
     "metadata": {},
     "output_type": "execute_result"
    },
    {
     "data": {
      "text/plain": [
       "Iteration 260: KL divergence is 0.5743162170098\t\n"
      ]
     },
     "execution_count": 8,
     "metadata": {},
     "output_type": "execute_result"
    },
    {
     "data": {
      "text/plain": [
       "Iteration 270: KL divergence is 0.56730572485952\t\n"
      ]
     },
     "execution_count": 8,
     "metadata": {},
     "output_type": "execute_result"
    },
    {
     "data": {
      "text/plain": [
       "Iteration 280: KL divergence is 0.56358339477389\t\n"
      ]
     },
     "execution_count": 8,
     "metadata": {},
     "output_type": "execute_result"
    },
    {
     "data": {
      "text/plain": [
       "Iteration 290: KL divergence is 0.56319721618965\t\n"
      ]
     },
     "execution_count": 8,
     "metadata": {},
     "output_type": "execute_result"
    },
    {
     "data": {
      "text/plain": [
       "Iteration 300: KL divergence is 0.56166916702289\t\n"
      ]
     },
     "execution_count": 8,
     "metadata": {},
     "output_type": "execute_result"
    },
    {
     "data": {
      "text/plain": [
       "Iteration 310: KL divergence is 0.5598631917177\t\n"
      ]
     },
     "execution_count": 8,
     "metadata": {},
     "output_type": "execute_result"
    },
    {
     "data": {
      "text/plain": [
       "Iteration 320: KL divergence is 0.55872810565076\t\n"
      ]
     },
     "execution_count": 8,
     "metadata": {},
     "output_type": "execute_result"
    },
    {
     "data": {
      "text/plain": [
       "Iteration 330: KL divergence is 0.55802526356711\t\n"
      ]
     },
     "execution_count": 8,
     "metadata": {},
     "output_type": "execute_result"
    },
    {
     "data": {
      "text/plain": [
       "Iteration 340: KL divergence is 0.5570389370636\t\n"
      ]
     },
     "execution_count": 8,
     "metadata": {},
     "output_type": "execute_result"
    },
    {
     "data": {
      "text/plain": [
       "Iteration 350: KL divergence is 0.55558275749272\t\n"
      ]
     },
     "execution_count": 8,
     "metadata": {},
     "output_type": "execute_result"
    },
    {
     "data": {
      "text/plain": [
       "Iteration 360: KL divergence is 0.55452855164404\t\n"
      ]
     },
     "execution_count": 8,
     "metadata": {},
     "output_type": "execute_result"
    },
    {
     "data": {
      "text/plain": [
       "Iteration 370: KL divergence is 0.55411769127029\t\n"
      ]
     },
     "execution_count": 8,
     "metadata": {},
     "output_type": "execute_result"
    },
    {
     "data": {
      "text/plain": [
       "Iteration 380: KL divergence is 0.55323243503148\t\n"
      ]
     },
     "execution_count": 8,
     "metadata": {},
     "output_type": "execute_result"
    },
    {
     "data": {
      "text/plain": [
       "Iteration 390: KL divergence is 0.55242187666701\t\n"
      ]
     },
     "execution_count": 8,
     "metadata": {},
     "output_type": "execute_result"
    },
    {
     "data": {
      "text/plain": [
       "Iteration 400: KL divergence is 0.55172825521442\t\n"
      ]
     },
     "execution_count": 8,
     "metadata": {},
     "output_type": "execute_result"
    },
    {
     "data": {
      "text/plain": [
       "Iteration 410: KL divergence is 0.5509642322378\t\n"
      ]
     },
     "execution_count": 8,
     "metadata": {},
     "output_type": "execute_result"
    },
    {
     "data": {
      "text/plain": [
       "Iteration 420: KL divergence is 0.54984678034629\t\n"
      ]
     },
     "execution_count": 8,
     "metadata": {},
     "output_type": "execute_result"
    },
    {
     "data": {
      "text/plain": [
       "Iteration 430: KL divergence is 0.54921555963339\t\n"
      ]
     },
     "execution_count": 8,
     "metadata": {},
     "output_type": "execute_result"
    },
    {
     "data": {
      "text/plain": [
       "Iteration 440: KL divergence is 0.54889042496932\t\n"
      ]
     },
     "execution_count": 8,
     "metadata": {},
     "output_type": "execute_result"
    },
    {
     "data": {
      "text/plain": [
       "Iteration 450: KL divergence is 0.54826420030084\t\n"
      ]
     },
     "execution_count": 8,
     "metadata": {},
     "output_type": "execute_result"
    },
    {
     "data": {
      "text/plain": [
       "Iteration 460: KL divergence is 0.54717133360816\t\n"
      ]
     },
     "execution_count": 8,
     "metadata": {},
     "output_type": "execute_result"
    },
    {
     "data": {
      "text/plain": [
       "Iteration 470: KL divergence is 0.54629575129946\t\n"
      ]
     },
     "execution_count": 8,
     "metadata": {},
     "output_type": "execute_result"
    },
    {
     "data": {
      "text/plain": [
       "Iteration 480: KL divergence is 0.54566296285421\t\n"
      ]
     },
     "execution_count": 8,
     "metadata": {},
     "output_type": "execute_result"
    },
    {
     "data": {
      "text/plain": [
       "Iteration 490: KL divergence is 0.54507518071351\t\n"
      ]
     },
     "execution_count": 8,
     "metadata": {},
     "output_type": "execute_result"
    },
    {
     "data": {
      "text/plain": [
       "Iteration 500: KL divergence is 0.54454016527357\t\n"
      ]
     },
     "execution_count": 8,
     "metadata": {},
     "output_type": "execute_result"
    },
    {
     "data": {
      "text/plain": [
       "Iteration 510: KL divergence is 0.54410356420332\t\n"
      ]
     },
     "execution_count": 8,
     "metadata": {},
     "output_type": "execute_result"
    },
    {
     "data": {
      "text/plain": [
       "Iteration 520: KL divergence is 0.54378856628179\t\n"
      ]
     },
     "execution_count": 8,
     "metadata": {},
     "output_type": "execute_result"
    },
    {
     "data": {
      "text/plain": [
       "Iteration 530: KL divergence is 0.54354779235814\t\n"
      ]
     },
     "execution_count": 8,
     "metadata": {},
     "output_type": "execute_result"
    },
    {
     "data": {
      "text/plain": [
       "Iteration 540: KL divergence is 0.5432343679296\t\n"
      ]
     },
     "execution_count": 8,
     "metadata": {},
     "output_type": "execute_result"
    },
    {
     "data": {
      "text/plain": [
       "Iteration 550: KL divergence is 0.54299156952762\t\n"
      ]
     },
     "execution_count": 8,
     "metadata": {},
     "output_type": "execute_result"
    },
    {
     "data": {
      "text/plain": [
       "Iteration 560: KL divergence is 0.54281569678148\t\n"
      ]
     },
     "execution_count": 8,
     "metadata": {},
     "output_type": "execute_result"
    },
    {
     "data": {
      "text/plain": [
       "Iteration 570: KL divergence is 0.54251440171716\t\n"
      ]
     },
     "execution_count": 8,
     "metadata": {},
     "output_type": "execute_result"
    },
    {
     "data": {
      "text/plain": [
       "Iteration 580: KL divergence is 0.54245152501447\t\n"
      ]
     },
     "execution_count": 8,
     "metadata": {},
     "output_type": "execute_result"
    },
    {
     "data": {
      "text/plain": [
       "Iteration 590: KL divergence is 0.54226076960872\t\n"
      ]
     },
     "execution_count": 8,
     "metadata": {},
     "output_type": "execute_result"
    },
    {
     "data": {
      "text/plain": [
       "Iteration 600: KL divergence is 0.54197757500354\t\n"
      ]
     },
     "execution_count": 8,
     "metadata": {},
     "output_type": "execute_result"
    },
    {
     "data": {
      "text/plain": [
       "Iteration 610: KL divergence is 0.54142295960272\t\n"
      ]
     },
     "execution_count": 8,
     "metadata": {},
     "output_type": "execute_result"
    },
    {
     "data": {
      "text/plain": [
       "Iteration 620: KL divergence is 0.54045132246731\t\n"
      ]
     },
     "execution_count": 8,
     "metadata": {},
     "output_type": "execute_result"
    },
    {
     "data": {
      "text/plain": [
       "Iteration 630: KL divergence is 0.54009947996406\t"
      ]
     },
     "execution_count": 8,
     "metadata": {},
     "output_type": "execute_result"
    },
    {
     "data": {
      "text/plain": [
       "\n"
      ]
     },
     "execution_count": 8,
     "metadata": {},
     "output_type": "execute_result"
    },
    {
     "data": {
      "text/plain": [
       "Iteration 640: KL divergence is 0.53990240976834\t\n"
      ]
     },
     "execution_count": 8,
     "metadata": {},
     "output_type": "execute_result"
    },
    {
     "data": {
      "text/plain": [
       "Iteration 650: KL divergence is 0.53970872062221\t\n"
      ]
     },
     "execution_count": 8,
     "metadata": {},
     "output_type": "execute_result"
    },
    {
     "data": {
      "text/plain": [
       "Iteration 660: KL divergence is 0.53956414683302\t\n"
      ]
     },
     "execution_count": 8,
     "metadata": {},
     "output_type": "execute_result"
    },
    {
     "data": {
      "text/plain": [
       "Iteration 670: KL divergence is 0.53925359384794\t\n"
      ]
     },
     "execution_count": 8,
     "metadata": {},
     "output_type": "execute_result"
    },
    {
     "data": {
      "text/plain": [
       "Iteration 680: KL divergence is 0.53913597206362\t\n"
      ]
     },
     "execution_count": 8,
     "metadata": {},
     "output_type": "execute_result"
    },
    {
     "data": {
      "text/plain": [
       "Iteration 690: KL divergence is 0.53900450710985\t\n"
      ]
     },
     "execution_count": 8,
     "metadata": {},
     "output_type": "execute_result"
    },
    {
     "data": {
      "text/plain": [
       "Iteration 700: KL divergence is 0.53892780033619\t\n"
      ]
     },
     "execution_count": 8,
     "metadata": {},
     "output_type": "execute_result"
    },
    {
     "data": {
      "text/plain": [
       "Iteration 710: KL divergence is 0.53879131015317\t\n"
      ]
     },
     "execution_count": 8,
     "metadata": {},
     "output_type": "execute_result"
    },
    {
     "data": {
      "text/plain": [
       "Iteration 720: KL divergence is 0.53866379792385\t\n"
      ]
     },
     "execution_count": 8,
     "metadata": {},
     "output_type": "execute_result"
    },
    {
     "data": {
      "text/plain": [
       "Iteration 730: KL divergence is 0.53857520561052\t\n"
      ]
     },
     "execution_count": 8,
     "metadata": {},
     "output_type": "execute_result"
    },
    {
     "data": {
      "text/plain": [
       "Iteration 740: KL divergence is 0.53849441691551\t\n"
      ]
     },
     "execution_count": 8,
     "metadata": {},
     "output_type": "execute_result"
    },
    {
     "data": {
      "text/plain": [
       "Iteration 750: KL divergence is 0.53841742362778\t\n"
      ]
     },
     "execution_count": 8,
     "metadata": {},
     "output_type": "execute_result"
    },
    {
     "data": {
      "text/plain": [
       "Iteration 760: KL divergence is 0.53834240528086\t\n"
      ]
     },
     "execution_count": 8,
     "metadata": {},
     "output_type": "execute_result"
    },
    {
     "data": {
      "text/plain": [
       "Iteration 770: KL divergence is 0.5382736379775\t"
      ]
     },
     "execution_count": 8,
     "metadata": {},
     "output_type": "execute_result"
    },
    {
     "data": {
      "text/plain": [
       "\n"
      ]
     },
     "execution_count": 8,
     "metadata": {},
     "output_type": "execute_result"
    },
    {
     "data": {
      "text/plain": [
       "Iteration 780: KL divergence is 0.53818641367611\t\n"
      ]
     },
     "execution_count": 8,
     "metadata": {},
     "output_type": "execute_result"
    },
    {
     "data": {
      "text/plain": [
       "Iteration 790: KL divergence is 0.53807373867898\t\n"
      ]
     },
     "execution_count": 8,
     "metadata": {},
     "output_type": "execute_result"
    },
    {
     "data": {
      "text/plain": [
       "Iteration 800: KL divergence is 0.53797382655477\t\n"
      ]
     },
     "execution_count": 8,
     "metadata": {},
     "output_type": "execute_result"
    },
    {
     "data": {
      "text/plain": [
       "Iteration 810: KL divergence is 0.53787749048371\t\n"
      ]
     },
     "execution_count": 8,
     "metadata": {},
     "output_type": "execute_result"
    },
    {
     "data": {
      "text/plain": [
       "Iteration 820: KL divergence is 0.53777649037375\t\n"
      ]
     },
     "execution_count": 8,
     "metadata": {},
     "output_type": "execute_result"
    },
    {
     "data": {
      "text/plain": [
       "Iteration 830: KL divergence is 0.53769671290208\t\n"
      ]
     },
     "execution_count": 8,
     "metadata": {},
     "output_type": "execute_result"
    },
    {
     "data": {
      "text/plain": [
       "Iteration 840: KL divergence is 0.53761931681676\t\n"
      ]
     },
     "execution_count": 8,
     "metadata": {},
     "output_type": "execute_result"
    },
    {
     "data": {
      "text/plain": [
       "Iteration 850: KL divergence is 0.53756297245859\t\n"
      ]
     },
     "execution_count": 8,
     "metadata": {},
     "output_type": "execute_result"
    },
    {
     "data": {
      "text/plain": [
       "Iteration 860: KL divergence is 0.53750581454043\t\n"
      ]
     },
     "execution_count": 8,
     "metadata": {},
     "output_type": "execute_result"
    },
    {
     "data": {
      "text/plain": [
       "Iteration 870: KL divergence is 0.53744879422127\t\n"
      ]
     },
     "execution_count": 8,
     "metadata": {},
     "output_type": "execute_result"
    },
    {
     "data": {
      "text/plain": [
       "Iteration 880: KL divergence is 0.53735823529746\t\n"
      ]
     },
     "execution_count": 8,
     "metadata": {},
     "output_type": "execute_result"
    },
    {
     "data": {
      "text/plain": [
       "Iteration 890: KL divergence is 0.53726742171474\t\n"
      ]
     },
     "execution_count": 8,
     "metadata": {},
     "output_type": "execute_result"
    },
    {
     "data": {
      "text/plain": [
       "Iteration 900: KL divergence is 0.53711245737398\t\n"
      ]
     },
     "execution_count": 8,
     "metadata": {},
     "output_type": "execute_result"
    },
    {
     "data": {
      "text/plain": [
       "Iteration 910: KL divergence is 0.53701863633265\t\n"
      ]
     },
     "execution_count": 8,
     "metadata": {},
     "output_type": "execute_result"
    },
    {
     "data": {
      "text/plain": [
       "Iteration 920: KL divergence is 0.53691653867263\t\n"
      ]
     },
     "execution_count": 8,
     "metadata": {},
     "output_type": "execute_result"
    },
    {
     "data": {
      "text/plain": [
       "Iteration 930: KL divergence is 0.53682792041563\t\n"
      ]
     },
     "execution_count": 8,
     "metadata": {},
     "output_type": "execute_result"
    },
    {
     "data": {
      "text/plain": [
       "Iteration 940: KL divergence is 0.53672063414213\t\n"
      ]
     },
     "execution_count": 8,
     "metadata": {},
     "output_type": "execute_result"
    },
    {
     "data": {
      "text/plain": [
       "Iteration 950: KL divergence is 0.53664642031735\t\n"
      ]
     },
     "execution_count": 8,
     "metadata": {},
     "output_type": "execute_result"
    },
    {
     "data": {
      "text/plain": [
       "Iteration 960: KL divergence is 0.53648353946723\t\n"
      ]
     },
     "execution_count": 8,
     "metadata": {},
     "output_type": "execute_result"
    },
    {
     "data": {
      "text/plain": [
       "Iteration 970: KL divergence is 0.53624323906328\t\n"
      ]
     },
     "execution_count": 8,
     "metadata": {},
     "output_type": "execute_result"
    },
    {
     "data": {
      "text/plain": [
       "Iteration 980: KL divergence is 0.53577900424047\t\n"
      ]
     },
     "execution_count": 8,
     "metadata": {},
     "output_type": "execute_result"
    },
    {
     "data": {
      "text/plain": [
       "Iteration 990: KL divergence is 0.53518656944691\t\n"
      ]
     },
     "execution_count": 8,
     "metadata": {},
     "output_type": "execute_result"
    }
   ],
   "source": [
    "-- take a subset of MNIST test dataset\n",
    "x_subset = testData.data:narrow(1,1,1000)\n",
    "\n",
    "local W_t = grad.util.deepCopy(params)\n",
    "W_t[#params] = nil -- remove the last layer\n",
    "\n",
    "-- extract features\n",
    "local features = f(W_t, x_subset)\n",
    "print('extracted features size:', #features)\n",
    "\n",
    "-- call t-SNE\n",
    "p = manifold.embedding.tsne(features:double(), {dim=2, perplexity=30})"
   ]
  },
  {
   "cell_type": "code",
   "execution_count": 9,
   "metadata": {
    "collapsed": false
   },
   "outputs": [
    {
     "data": {
      "image/png": "[encoded data removed]",
      "text/plain": [
       "Console does not support images"
      ]
     },
     "metadata": {
      "image/png": {
       "height": 900,
       "width": 1200
      }
     },
     "output_type": "display_data"
    }
   ],
   "source": [
    "-- visualized computed embedding\n",
    "local images = x_subset\n",
    "\n",
    "local s = {900,1200}\n",
    "local b = 16\n",
    "local p_ = p:clone()\n",
    "local px = p_:select(2,1)\n",
    "local py = p_:select(2,2)\n",
    "px = (px - px:min()) / (px:max() - px:min())\n",
    "py = (py - py:min()) / (py:max() - py:min())\n",
    "local im = torch.FloatTensor(1,s[1],s[2]):fill(0)\n",
    "for i,v in ipairs(images:split(1)) do\n",
    "    local x = math.ceil(b + px[i]*s[1]*0.95)\n",
    "    local y = math.ceil(b + py[i]*s[2]*0.95)\n",
    "    local scaled = image.scale(v,b,b)\n",
    "    im[{{},{x-b/2,x+b/2-1},{y-b/2,y+b/2-1}}]:add(scaled)\n",
    "end\n",
    "\n",
    "-- and clusters of data we shall see:\n",
    "itorch.image(-im+1)"
   ]
  },
  {
   "cell_type": "markdown",
   "metadata": {},
   "source": [
    "# Homework\n",
    "\n",
    "As a homework you can try the following:\n",
    " * Visualize t-SNE embedding over training, started from randomly initialized network\n",
    " * Try more complicated network structure, e.g. convolutional network, LeNet\n",
    " * Experiment with different optimization methods, try ADAM or L-BFGS\n",
    " * Try out another loss function"
   ]
  },
  {
   "cell_type": "markdown",
   "metadata": {
    "collapsed": true
   },
   "source": [
    "## More examples\n",
    "\n",
    "For more examples on torch-autograd check these repositories:\n",
    "* Original torch-autograd examples https://github.com/twitter/torch-autograd/tree/master/examples\n",
    "* neural-style implemented in autograd https://github.com/szagoruyko/neural-style-autograd more natural implementation with ~100 less lines"
   ]
  }
 ],
 "metadata": {
  "kernelspec": {
   "display_name": "iTorch",
   "language": "lua",
   "name": "itorch"
  },
  "language_info": {
   "name": "lua",
   "version": "5.1"
  }
 },
 "nbformat": 4,
 "nbformat_minor": 0
}
