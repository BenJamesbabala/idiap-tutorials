{
 "cells": [
  {
   "cell_type": "markdown",
   "metadata": {},
   "source": [
    "# MultiGPU training on CIFAR-10\n",
    "\n",
    "In this notebook we will train a wide residual network http://arxiv.org/abs/1605.07146 using multiple GPUs in a single machine. With minimal changes it achieves state-of-the-art on CIFAR-10, CIFAR-100 and SVHN.\n",
    "\n",
    "You will need cudnn to run this notebook, which can be downloaded from https://developer.nvidia.com/cudnn, and NVIDIA NCCL library for efficient multiGPU communications https://github.com/NVIDIA/nccl\n",
    "After, the following rocks are required:\n",
    "\n",
    "```\n",
    "luarocks install cudnn\n",
    "luarocks install optnet\n",
    "luarocks install nccl\n",
    "```"
   ]
  },
  {
   "cell_type": "code",
   "execution_count": 1,
   "metadata": {
    "collapsed": true
   },
   "outputs": [],
   "source": [
    "cudnn = require 'cudnn'\n",
    "cunn = require 'cunn'\n",
    "optnet = require 'optnet'\n",
    "tablex = require 'pl.tablex'\n",
    "optim = require 'optim'"
   ]
  },
  {
   "cell_type": "code",
   "execution_count": 8,
   "metadata": {
    "collapsed": true
   },
   "outputs": [],
   "source": [
    "opt = {\n",
    "    dataset = 'cifar10_original.t7',\n",
    "    num_classes = 10,\n",
    "    batchSize = 128,\n",
    "    learningRate = 0.1,\n",
    "    learningRateDecay = 0,\n",
    "    learningRateDecayRatio = 0.2,\n",
    "    weightDecay = 0.0005,\n",
    "    dampening = 0,\n",
    "    momentum = 0.9,\n",
    "    epoch_step = \"80\",\n",
    "    max_epoch = 300,\n",
    "    optimMethod = 'sgd',\n",
    "    nesterov = false,\n",
    "    nGPU = 1,\n",
    "    \n",
    "    depth = 16,\n",
    "    width = 4,\n",
    "}"
   ]
  },
  {
   "cell_type": "code",
   "execution_count": 17,
   "metadata": {
    "collapsed": false
   },
   "outputs": [],
   "source": [
    "-- define wide residual network (WRN) model\n",
    "function createModel(opt)\n",
    "   local depth = opt.depth\n",
    "   local width = opt.width\n",
    "   \n",
    "   -- define WRN basic block\n",
    "   local function wide_basic(nInputPlane, nOutputPlane, stride)\n",
    "      local nBottleneckPlane = nOutputPlane\n",
    "\n",
    "      local block = nn.Sequential()\n",
    "      local convs = nn.Sequential()     \n",
    "\n",
    "      local module = nInputPlane == nOutputPlane and convs or block\n",
    "      module:add(nn.SpatialBatchNormalization(nInputPlane))\n",
    "      module:add(nn.ReLU(true))\n",
    "      convs:add(nn.SpatialConvolution(nInputPlane,nBottleneckPlane,3,3,stride,stride,1,1):noBias())\n",
    "      convs:add(nn.SpatialBatchNormalization(nBottleneckPlane))\n",
    "      convs:add(nn.ReLU(true))\n",
    "      convs:add(nn.SpatialConvolution(nBottleneckPlane,nBottleneckPlane,3,3,1,1,1,1):noBias())\n",
    "      \n",
    "      local shortcut = nInputPlane == nOutputPlane and\n",
    "         nn.Identity() or\n",
    "         nn.SpatialConvolution(nInputPlane,nOutputPlane,1,1,stride,stride,0,0):noBias()\n",
    "     \n",
    "      return block\n",
    "         :add(nn.ConcatTable()\n",
    "            :add(convs)\n",
    "            :add(shortcut))\n",
    "         :add(nn.CAddTable(true))\n",
    "   end\n",
    "\n",
    "   -- Stacking Residual Units on the same stage\n",
    "   local function layer(block, nInputPlane, nOutputPlane, count, stride)\n",
    "      local s = nn.Sequential()\n",
    "      s:add(block(nInputPlane, nOutputPlane, stride))\n",
    "      for i=2,count do\n",
    "         s:add(block(nOutputPlane, nOutputPlane, 1))\n",
    "      end\n",
    "      return s\n",
    "   end\n",
    "\n",
    "   local model = nn.Sequential()\n",
    "   do\n",
    "      assert((depth - 4) % 6 == 0, 'depth should be 6n+4')\n",
    "      local n = (depth - 4) / 6\n",
    "      local k = width\n",
    "      local nStages = torch.Tensor{16, 16*k, 32*k, 64*k} -- the difference between WRN and ResNet\n",
    "\n",
    "      model:add(nn.SpatialConvolution(3,nStages[1],3,3,1,1,1,1)) -- one conv at the beginning (spatial size: 32x32)\n",
    "      model:add(layer(wide_basic, nStages[1], nStages[2], n, 1)) -- Stage 1 (spatial size: 32x32)\n",
    "      model:add(layer(wide_basic, nStages[2], nStages[3], n, 2)) -- Stage 2 (spatial size: 16x16)\n",
    "      model:add(layer(wide_basic, nStages[3], nStages[4], n, 2)) -- Stage 3 (spatial size: 8x8)\n",
    "      model:add(nn.SpatialBatchNormalization(nStages[4]))\n",
    "      model:add(nn.ReLU(true))\n",
    "      model:add(nn.SpatialAveragePooling(8, 8, 1, 1))\n",
    "      model:add(nn.View(nStages[4]):setNumInputDims(3))\n",
    "      model:add(nn.Linear(nStages[4], opt.num_classes))\n",
    "   end\n",
    "\n",
    "    -- init \n",
    "    local function MSRinit(model)\n",
    "       for k,v in pairs(model:findModules('nn.SpatialConvolution')) do\n",
    "          local n = v.kW*v.kH*v.nOutputPlane\n",
    "          v.weight:normal(0,math.sqrt(2/n))\n",
    "          if v.bias then v.bias:zero() end\n",
    "       end\n",
    "    end\n",
    "\n",
    "    local function FCinit(model)\n",
    "       for k,v in pairs(model:findModules'nn.Linear') do\n",
    "         v.bias:zero()\n",
    "       end\n",
    "    end\n",
    "    \n",
    "   MSRinit(model)\n",
    "   FCinit(model)\n",
    "\n",
    "   return model\n",
    "end\n",
    "\n",
    "-- define base network that will be used inside DataParallelTable\n",
    "net = createModel(opt):float()"
   ]
  },
  {
   "cell_type": "code",
   "execution_count": 18,
   "metadata": {
    "collapsed": false,
    "scrolled": false
   },
   "outputs": [
    {
     "data": {
      "text/html": [
       "<script type=\"text/javascript\">\n",
       "  $(function() {\n",
       "    $(\"#7d2b0a47-170c-4ac1-ca4a-6685398c9c2b\").html('<?xml version=\"1.0\" encoding=\"UTF-8\" standalone=\"no\"?>\\n<!DOCTYPE svg PUBLIC \"-//W3C//DTD SVG 1.1//EN\"\\n \"http://www.w3.org/Graphics/SVG/1.1/DTD/svg11.dtd\">\\n<!-- Generated by graphviz version 2.36.0 (20140111.2315)\\n -->\\n<!-- Title: G Pages: 1 -->\\n<svg width=\"506pt\" height=\"3500pt\"\\n viewBox=\"0.00 0.00 506.00 3500.00\" xmlns=\"http://www.w3.org/2000/svg\" xmlns:xlink=\"http://www.w3.org/1999/xlink\">\\n<g id=\"graph0\" class=\"graph\" transform=\"scale(1 1) rotate(0) translate(4 3496)\">\\n<title>G</title>\\n<polygon fill=\"white\" stroke=\"none\" points=\"-4,4 -4,-3496 502,-3496 502,4 -4,4\"/>\\n<!-- n1 -->\\n<g id=\"node1\" class=\"node\"><title>n1</title>\\n<polygon fill=\"#cdaa7d\" stroke=\"#cdaa7d\" points=\"320,-3492 252,-3492 252,-3456 320,-3456 320,-3492\"/>\\n<text text-anchor=\"middle\" x=\"286\" y=\"-3477\" font-family=\"Times,serif\" font-size=\"10.00\">Input</text>\\n<text text-anchor=\"middle\" x=\"286\" y=\"-3466\" font-family=\"Times,serif\" font-size=\"10.00\">Storage id: 1</text>\\n</g>\\n<!-- n2 -->\\n<g id=\"node2\" class=\"node\"><title>n2</title>\\n<polygon fill=\"dimgray\" stroke=\"dimgray\" points=\"386,-3420 186,-3420 186,-3384 386,-3384 386,-3420\"/>\\n<text text-anchor=\"middle\" x=\"286\" y=\"-3405\" font-family=\"Times,serif\" font-size=\"10.00\">nn.SpatialConvolution(3 &#45;&gt; 16, 3x3, 1,1, 1,1)</text>\\n<text text-anchor=\"middle\" x=\"286\" y=\"-3394\" font-family=\"Times,serif\" font-size=\"10.00\">Storage id: 2</text>\\n</g>\\n<!-- n1&#45;&gt;n2 -->\\n<g id=\"edge1\" class=\"edge\"><title>n1&#45;&gt;n2</title>\\n<path fill=\"none\" stroke=\"black\" d=\"M286,-3455.7C286,-3447.98 286,-3438.71 286,-3430.11\"/>\\n<polygon fill=\"black\" stroke=\"black\" points=\"289.5,-3430.1 286,-3420.1 282.5,-3430.1 289.5,-3430.1\"/>\\n</g>\\n<!-- n3 -->\\n<g id=\"node3\" class=\"node\"><title>n3</title>\\n<polygon fill=\"deeppink\" stroke=\"deeppink\" points=\"356.25,-3348 215.75,-3348 215.75,-3312 356.25,-3312 356.25,-3348\"/>\\n<text text-anchor=\"middle\" x=\"286\" y=\"-3333\" font-family=\"Times,serif\" font-size=\"10.00\">nn.SpatialBatchNormalization</text>\\n<text text-anchor=\"middle\" x=\"286\" y=\"-3322\" font-family=\"Times,serif\" font-size=\"10.00\">Storage id: 3</text>\\n</g>\\n<!-- n2&#45;&gt;n3 -->\\n<g id=\"edge2\" class=\"edge\"><title>n2&#45;&gt;n3</title>\\n<path fill=\"none\" stroke=\"black\" d=\"M286,-3383.7C286,-3375.98 286,-3366.71 286,-3358.11\"/>\\n<polygon fill=\"black\" stroke=\"black\" points=\"289.5,-3358.1 286,-3348.1 282.5,-3358.1 289.5,-3358.1\"/>\\n</g>\\n<!-- n4 -->\\n<g id=\"node4\" class=\"node\"><title>n4</title>\\n<polygon fill=\"deeppink\" stroke=\"deeppink\" points=\"320,-3276 252,-3276 252,-3240 320,-3240 320,-3276\"/>\\n<text text-anchor=\"middle\" x=\"286\" y=\"-3261\" font-family=\"Times,serif\" font-size=\"10.00\">nn.ReLU</text>\\n<text text-anchor=\"middle\" x=\"286\" y=\"-3250\" font-family=\"Times,serif\" font-size=\"10.00\">Storage id: 3</text>\\n</g>\\n<!-- n3&#45;&gt;n4 -->\\n<g id=\"edge3\" class=\"edge\"><title>n3&#45;&gt;n4</title>\\n<path fill=\"none\" stroke=\"black\" d=\"M286,-3311.7C286,-3303.98 286,-3294.71 286,-3286.11\"/>\\n<polygon fill=\"black\" stroke=\"black\" points=\"289.5,-3286.1 286,-3276.1 282.5,-3286.1 289.5,-3286.1\"/>\\n</g>\\n<!-- n5 -->\\n<g id=\"node5\" class=\"node\"><title>n5</title>\\n<polygon fill=\"#cdc0b0\" stroke=\"#cdc0b0\" points=\"326.25,-3204 67.75,-3204 67.75,-3168 326.25,-3168 326.25,-3204\"/>\\n<text text-anchor=\"middle\" x=\"197\" y=\"-3189\" font-family=\"Times,serif\" font-size=\"10.00\">nn.SpatialConvolution(16 &#45;&gt; 64, 3x3, 1,1, 1,1) without bias</text>\\n<text text-anchor=\"middle\" x=\"197\" y=\"-3178\" font-family=\"Times,serif\" font-size=\"10.00\">Storage id: 4</text>\\n</g>\\n<!-- n4&#45;&gt;n5 -->\\n<g id=\"edge4\" class=\"edge\"><title>n4&#45;&gt;n5</title>\\n<path fill=\"none\" stroke=\"black\" d=\"M264,-3239.7C252.791,-3230.88 238.998,-3220.03 226.846,-3210.47\"/>\\n<polygon fill=\"black\" stroke=\"black\" points=\"228.771,-3207.54 218.747,-3204.1 224.443,-3213.04 228.771,-3207.54\"/>\\n</g>\\n<!-- n9 -->\\n<g id=\"node9\" class=\"node\"><title>n9</title>\\n<polygon fill=\"cadetblue\" stroke=\"cadetblue\" points=\"498.5,-3132 275.5,-3132 275.5,-3096 498.5,-3096 498.5,-3132\"/>\\n<text text-anchor=\"middle\" x=\"387\" y=\"-3117\" font-family=\"Times,serif\" font-size=\"10.00\">nn.SpatialConvolution(16 &#45;&gt; 64, 1x1) without bias</text>\\n<text text-anchor=\"middle\" x=\"387\" y=\"-3106\" font-family=\"Times,serif\" font-size=\"10.00\">Storage id: 7</text>\\n</g>\\n<!-- n4&#45;&gt;n9 -->\\n<g id=\"edge8\" class=\"edge\"><title>n4&#45;&gt;n9</title>\\n<path fill=\"none\" stroke=\"black\" d=\"M303.804,-3239.69C313.585,-3229.73 325.602,-3216.69 335,-3204 349.875,-3183.92 363.996,-3159.26 373.758,-3140.99\"/>\\n<polygon fill=\"black\" stroke=\"black\" points=\"376.888,-3142.56 378.447,-3132.08 370.693,-3139.3 376.888,-3142.56\"/>\\n</g>\\n<!-- n6 -->\\n<g id=\"node6\" class=\"node\"><title>n6</title>\\n<polygon fill=\"#00ffff\" stroke=\"#00ffff\" points=\"256.25,-3132 115.75,-3132 115.75,-3096 256.25,-3096 256.25,-3132\"/>\\n<text text-anchor=\"middle\" x=\"186\" y=\"-3117\" font-family=\"Times,serif\" font-size=\"10.00\">nn.SpatialBatchNormalization</text>\\n<text text-anchor=\"middle\" x=\"186\" y=\"-3106\" font-family=\"Times,serif\" font-size=\"10.00\">Storage id: 5</text>\\n</g>\\n<!-- n5&#45;&gt;n6 -->\\n<g id=\"edge5\" class=\"edge\"><title>n5&#45;&gt;n6</title>\\n<path fill=\"none\" stroke=\"black\" d=\"M194.281,-3167.7C193.069,-3159.98 191.612,-3150.71 190.261,-3142.11\"/>\\n<polygon fill=\"black\" stroke=\"black\" points=\"193.698,-3141.44 188.688,-3132.1 186.783,-3142.53 193.698,-3141.44\"/>\\n</g>\\n<!-- n7 -->\\n<g id=\"node7\" class=\"node\"><title>n7</title>\\n<polygon fill=\"#00ffff\" stroke=\"#00ffff\" points=\"241,-3060 173,-3060 173,-3024 241,-3024 241,-3060\"/>\\n<text text-anchor=\"middle\" x=\"207\" y=\"-3045\" font-family=\"Times,serif\" font-size=\"10.00\">nn.ReLU</text>\\n<text text-anchor=\"middle\" x=\"207\" y=\"-3034\" font-family=\"Times,serif\" font-size=\"10.00\">Storage id: 5</text>\\n</g>\\n<!-- n6&#45;&gt;n7 -->\\n<g id=\"edge6\" class=\"edge\"><title>n6&#45;&gt;n7</title>\\n<path fill=\"none\" stroke=\"black\" d=\"M191.191,-3095.7C193.531,-3087.9 196.347,-3078.51 198.951,-3069.83\"/>\\n<polygon fill=\"black\" stroke=\"black\" points=\"202.348,-3070.69 201.869,-3060.1 195.643,-3068.68 202.348,-3070.69\"/>\\n</g>\\n<!-- n8 -->\\n<g id=\"node8\" class=\"node\"><title>n8</title>\\n<polygon fill=\"#cdad00\" stroke=\"#cdad00\" points=\"347.25,-2988 88.75,-2988 88.75,-2952 347.25,-2952 347.25,-2988\"/>\\n<text text-anchor=\"middle\" x=\"218\" y=\"-2973\" font-family=\"Times,serif\" font-size=\"10.00\">nn.SpatialConvolution(64 &#45;&gt; 64, 3x3, 1,1, 1,1) without bias</text>\\n<text text-anchor=\"middle\" x=\"218\" y=\"-2962\" font-family=\"Times,serif\" font-size=\"10.00\">Storage id: 6</text>\\n</g>\\n<!-- n7&#45;&gt;n8 -->\\n<g id=\"edge7\" class=\"edge\"><title>n7&#45;&gt;n8</title>\\n<path fill=\"none\" stroke=\"black\" d=\"M209.719,-3023.7C210.931,-3015.98 212.388,-3006.71 213.739,-2998.11\"/>\\n<polygon fill=\"black\" stroke=\"black\" points=\"217.217,-2998.53 215.312,-2988.1 210.302,-2997.44 217.217,-2998.53\"/>\\n</g>\\n<!-- n10 -->\\n<g id=\"node10\" class=\"node\"><title>n10</title>\\n<polygon fill=\"#cdad00\" stroke=\"#cdad00\" points=\"337.25,-2916 260.75,-2916 260.75,-2880 337.25,-2880 337.25,-2916\"/>\\n<text text-anchor=\"middle\" x=\"299\" y=\"-2901\" font-family=\"Times,serif\" font-size=\"10.00\">nn.CAddTable</text>\\n<text text-anchor=\"middle\" x=\"299\" y=\"-2890\" font-family=\"Times,serif\" font-size=\"10.00\">Storage id: 6</text>\\n</g>\\n<!-- n8&#45;&gt;n10 -->\\n<g id=\"edge9\" class=\"edge\"><title>n8&#45;&gt;n10</title>\\n<path fill=\"none\" stroke=\"black\" d=\"M238.022,-2951.7C248.126,-2942.97 260.536,-2932.24 271.518,-2922.75\"/>\\n<polygon fill=\"black\" stroke=\"black\" points=\"273.93,-2925.29 279.208,-2916.1 269.353,-2919.99 273.93,-2925.29\"/>\\n</g>\\n<!-- n9&#45;&gt;n10 -->\\n<g id=\"edge10\" class=\"edge\"><title>n9&#45;&gt;n10</title>\\n<path fill=\"none\" stroke=\"black\" d=\"M387.108,-3095.85C386.592,-3065.08 382.212,-2999.31 356,-2952 349.911,-2941.01 340.728,-2931.01 331.5,-2922.74\"/>\\n<polygon fill=\"black\" stroke=\"black\" points=\"333.694,-2920.01 323.805,-2916.21 329.164,-2925.35 333.694,-2920.01\"/>\\n</g>\\n<!-- n11 -->\\n<g id=\"node11\" class=\"node\"><title>n11</title>\\n<polygon fill=\"#fff8dc\" stroke=\"#fff8dc\" points=\"290.25,-2844 149.75,-2844 149.75,-2808 290.25,-2808 290.25,-2844\"/>\\n<text text-anchor=\"middle\" x=\"220\" y=\"-2829\" font-family=\"Times,serif\" font-size=\"10.00\">nn.SpatialBatchNormalization</text>\\n<text text-anchor=\"middle\" x=\"220\" y=\"-2818\" font-family=\"Times,serif\" font-size=\"10.00\">Storage id: 8</text>\\n</g>\\n<!-- n10&#45;&gt;n11 -->\\n<g id=\"edge11\" class=\"edge\"><title>n10&#45;&gt;n11</title>\\n<path fill=\"none\" stroke=\"black\" d=\"M279.472,-2879.7C269.618,-2870.97 257.514,-2860.24 246.804,-2850.75\"/>\\n<polygon fill=\"black\" stroke=\"black\" points=\"249.109,-2848.12 239.303,-2844.1 244.467,-2853.36 249.109,-2848.12\"/>\\n</g>\\n<!-- n17 -->\\n<g id=\"node17\" class=\"node\"><title>n17</title>\\n<polygon fill=\"cornflowerblue\" stroke=\"cornflowerblue\" points=\"293.25,-2412 216.75,-2412 216.75,-2376 293.25,-2376 293.25,-2412\"/>\\n<text text-anchor=\"middle\" x=\"255\" y=\"-2397\" font-family=\"Times,serif\" font-size=\"10.00\">nn.CAddTable</text>\\n<text text-anchor=\"middle\" x=\"255\" y=\"-2386\" font-family=\"Times,serif\" font-size=\"10.00\">Storage id: 11</text>\\n</g>\\n<!-- n10&#45;&gt;n17 -->\\n<g id=\"edge18\" class=\"edge\"><title>n10&#45;&gt;n17</title>\\n<path fill=\"none\" stroke=\"black\" d=\"M306.083,-2879.85C316.31,-2853.49 334,-2801.21 334,-2755 334,-2755 334,-2755 334,-2537 334,-2496.46 334.495,-2482.98 314,-2448 307.529,-2436.96 297.977,-2426.94 288.435,-2418.67\"/>\\n<polygon fill=\"black\" stroke=\"black\" points=\"290.439,-2415.79 280.49,-2412.14 285.996,-2421.2 290.439,-2415.79\"/>\\n</g>\\n<!-- n12 -->\\n<g id=\"node12\" class=\"node\"><title>n12</title>\\n<polygon fill=\"#fff8dc\" stroke=\"#fff8dc\" points=\"225,-2772 157,-2772 157,-2736 225,-2736 225,-2772\"/>\\n<text text-anchor=\"middle\" x=\"191\" y=\"-2757\" font-family=\"Times,serif\" font-size=\"10.00\">nn.ReLU</text>\\n<text text-anchor=\"middle\" x=\"191\" y=\"-2746\" font-family=\"Times,serif\" font-size=\"10.00\">Storage id: 8</text>\\n</g>\\n<!-- n11&#45;&gt;n12 -->\\n<g id=\"edge12\" class=\"edge\"><title>n11&#45;&gt;n12</title>\\n<path fill=\"none\" stroke=\"black\" d=\"M212.831,-2807.7C209.565,-2799.81 205.626,-2790.3 201.998,-2781.55\"/>\\n<polygon fill=\"black\" stroke=\"black\" points=\"205.147,-2780 198.086,-2772.1 198.68,-2782.68 205.147,-2780\"/>\\n</g>\\n<!-- n13 -->\\n<g id=\"node13\" class=\"node\"><title>n13</title>\\n<polygon fill=\"#00008b\" stroke=\"#00008b\" points=\"305.25,-2700 46.75,-2700 46.75,-2664 305.25,-2664 305.25,-2700\"/>\\n<text text-anchor=\"middle\" x=\"176\" y=\"-2685\" font-family=\"Times,serif\" font-size=\"10.00\">nn.SpatialConvolution(64 &#45;&gt; 64, 3x3, 1,1, 1,1) without bias</text>\\n<text text-anchor=\"middle\" x=\"176\" y=\"-2674\" font-family=\"Times,serif\" font-size=\"10.00\">Storage id: 9</text>\\n</g>\\n<!-- n12&#45;&gt;n13 -->\\n<g id=\"edge13\" class=\"edge\"><title>n12&#45;&gt;n13</title>\\n<path fill=\"none\" stroke=\"black\" d=\"M187.292,-2735.7C185.639,-2727.98 183.653,-2718.71 181.81,-2710.11\"/>\\n<polygon fill=\"black\" stroke=\"black\" points=\"185.183,-2709.15 179.665,-2700.1 178.338,-2710.62 185.183,-2709.15\"/>\\n</g>\\n<!-- n14 -->\\n<g id=\"node14\" class=\"node\"><title>n14</title>\\n<polygon fill=\"aquamarine\" stroke=\"aquamarine\" points=\"246.25,-2628 105.75,-2628 105.75,-2592 246.25,-2592 246.25,-2628\"/>\\n<text text-anchor=\"middle\" x=\"176\" y=\"-2613\" font-family=\"Times,serif\" font-size=\"10.00\">nn.SpatialBatchNormalization</text>\\n<text text-anchor=\"middle\" x=\"176\" y=\"-2602\" font-family=\"Times,serif\" font-size=\"10.00\">Storage id: 10</text>\\n</g>\\n<!-- n13&#45;&gt;n14 -->\\n<g id=\"edge14\" class=\"edge\"><title>n13&#45;&gt;n14</title>\\n<path fill=\"none\" stroke=\"black\" d=\"M176,-2663.7C176,-2655.98 176,-2646.71 176,-2638.11\"/>\\n<polygon fill=\"black\" stroke=\"black\" points=\"179.5,-2638.1 176,-2628.1 172.5,-2638.1 179.5,-2638.1\"/>\\n</g>\\n<!-- n15 -->\\n<g id=\"node15\" class=\"node\"><title>n15</title>\\n<polygon fill=\"aquamarine\" stroke=\"aquamarine\" points=\"213,-2556 139,-2556 139,-2520 213,-2520 213,-2556\"/>\\n<text text-anchor=\"middle\" x=\"176\" y=\"-2541\" font-family=\"Times,serif\" font-size=\"10.00\">nn.ReLU</text>\\n<text text-anchor=\"middle\" x=\"176\" y=\"-2530\" font-family=\"Times,serif\" font-size=\"10.00\">Storage id: 10</text>\\n</g>\\n<!-- n14&#45;&gt;n15 -->\\n<g id=\"edge15\" class=\"edge\"><title>n14&#45;&gt;n15</title>\\n<path fill=\"none\" stroke=\"black\" d=\"M176,-2591.7C176,-2583.98 176,-2574.71 176,-2566.11\"/>\\n<polygon fill=\"black\" stroke=\"black\" points=\"179.5,-2566.1 176,-2556.1 172.5,-2566.1 179.5,-2566.1\"/>\\n</g>\\n<!-- n16 -->\\n<g id=\"node16\" class=\"node\"><title>n16</title>\\n<polygon fill=\"cornflowerblue\" stroke=\"cornflowerblue\" points=\"305.25,-2484 46.75,-2484 46.75,-2448 305.25,-2448 305.25,-2484\"/>\\n<text text-anchor=\"middle\" x=\"176\" y=\"-2469\" font-family=\"Times,serif\" font-size=\"10.00\">nn.SpatialConvolution(64 &#45;&gt; 64, 3x3, 1,1, 1,1) without bias</text>\\n<text text-anchor=\"middle\" x=\"176\" y=\"-2458\" font-family=\"Times,serif\" font-size=\"10.00\">Storage id: 11</text>\\n</g>\\n<!-- n15&#45;&gt;n16 -->\\n<g id=\"edge16\" class=\"edge\"><title>n15&#45;&gt;n16</title>\\n<path fill=\"none\" stroke=\"black\" d=\"M176,-2519.7C176,-2511.98 176,-2502.71 176,-2494.11\"/>\\n<polygon fill=\"black\" stroke=\"black\" points=\"179.5,-2494.1 176,-2484.1 172.5,-2494.1 179.5,-2494.1\"/>\\n</g>\\n<!-- n16&#45;&gt;n17 -->\\n<g id=\"edge17\" class=\"edge\"><title>n16&#45;&gt;n17</title>\\n<path fill=\"none\" stroke=\"black\" d=\"M195.528,-2447.7C205.382,-2438.97 217.486,-2428.24 228.196,-2418.75\"/>\\n<polygon fill=\"black\" stroke=\"black\" points=\"230.533,-2421.36 235.697,-2412.1 225.891,-2416.12 230.533,-2421.36\"/>\\n</g>\\n<!-- n18 -->\\n<g id=\"node18\" class=\"node\"><title>n18</title>\\n<polygon fill=\"#a2cd5a\" stroke=\"#a2cd5a\" points=\"325.25,-2340 184.75,-2340 184.75,-2304 325.25,-2304 325.25,-2340\"/>\\n<text text-anchor=\"middle\" x=\"255\" y=\"-2325\" font-family=\"Times,serif\" font-size=\"10.00\">nn.SpatialBatchNormalization</text>\\n<text text-anchor=\"middle\" x=\"255\" y=\"-2314\" font-family=\"Times,serif\" font-size=\"10.00\">Storage id: 12</text>\\n</g>\\n<!-- n17&#45;&gt;n18 -->\\n<g id=\"edge19\" class=\"edge\"><title>n17&#45;&gt;n18</title>\\n<path fill=\"none\" stroke=\"black\" d=\"M255,-2375.7C255,-2367.98 255,-2358.71 255,-2350.11\"/>\\n<polygon fill=\"black\" stroke=\"black\" points=\"258.5,-2350.1 255,-2340.1 251.5,-2350.1 258.5,-2350.1\"/>\\n</g>\\n<!-- n19 -->\\n<g id=\"node19\" class=\"node\"><title>n19</title>\\n<polygon fill=\"#a2cd5a\" stroke=\"#a2cd5a\" points=\"292,-2268 218,-2268 218,-2232 292,-2232 292,-2268\"/>\\n<text text-anchor=\"middle\" x=\"255\" y=\"-2253\" font-family=\"Times,serif\" font-size=\"10.00\">nn.ReLU</text>\\n<text text-anchor=\"middle\" x=\"255\" y=\"-2242\" font-family=\"Times,serif\" font-size=\"10.00\">Storage id: 12</text>\\n</g>\\n<!-- n18&#45;&gt;n19 -->\\n<g id=\"edge20\" class=\"edge\"><title>n18&#45;&gt;n19</title>\\n<path fill=\"none\" stroke=\"black\" d=\"M255,-2303.7C255,-2295.98 255,-2286.71 255,-2278.11\"/>\\n<polygon fill=\"black\" stroke=\"black\" points=\"258.5,-2278.1 255,-2268.1 251.5,-2278.1 258.5,-2278.1\"/>\\n</g>\\n<!-- n20 -->\\n<g id=\"node20\" class=\"node\"><title>n20</title>\\n<polygon fill=\"chartreuse\" stroke=\"chartreuse\" points=\"307,-2196 43,-2196 43,-2160 307,-2160 307,-2196\"/>\\n<text text-anchor=\"middle\" x=\"175\" y=\"-2181\" font-family=\"Times,serif\" font-size=\"10.00\">nn.SpatialConvolution(64 &#45;&gt; 128, 3x3, 2,2, 1,1) without bias</text>\\n<text text-anchor=\"middle\" x=\"175\" y=\"-2170\" font-family=\"Times,serif\" font-size=\"10.00\">Storage id: 13</text>\\n</g>\\n<!-- n19&#45;&gt;n20 -->\\n<g id=\"edge21\" class=\"edge\"><title>n19&#45;&gt;n20</title>\\n<path fill=\"none\" stroke=\"black\" d=\"M235.225,-2231.7C225.246,-2222.97 212.989,-2212.24 202.143,-2202.75\"/>\\n<polygon fill=\"black\" stroke=\"black\" points=\"204.378,-2200.06 194.548,-2196.1 199.769,-2205.32 204.378,-2200.06\"/>\\n</g>\\n<!-- n24 -->\\n<g id=\"node24\" class=\"node\"><title>n24</title>\\n<polygon fill=\"#c1cdcd\" stroke=\"#c1cdcd\" points=\"497.25,-2124 250.75,-2124 250.75,-2088 497.25,-2088 497.25,-2124\"/>\\n<text text-anchor=\"middle\" x=\"374\" y=\"-2109\" font-family=\"Times,serif\" font-size=\"10.00\">nn.SpatialConvolution(64 &#45;&gt; 128, 1x1, 2,2) without bias</text>\\n<text text-anchor=\"middle\" x=\"374\" y=\"-2098\" font-family=\"Times,serif\" font-size=\"10.00\">Storage id: 16</text>\\n</g>\\n<!-- n19&#45;&gt;n24 -->\\n<g id=\"edge25\" class=\"edge\"><title>n19&#45;&gt;n24</title>\\n<path fill=\"none\" stroke=\"black\" d=\"M277.524,-2231.96C289.669,-2222.17 304.483,-2209.22 316,-2196 333.097,-2176.37 348.973,-2151.33 359.777,-2132.81\"/>\\n<polygon fill=\"black\" stroke=\"black\" points=\"362.866,-2134.46 364.8,-2124.04 356.792,-2130.98 362.866,-2134.46\"/>\\n</g>\\n<!-- n21 -->\\n<g id=\"node21\" class=\"node\"><title>n21</title>\\n<polygon fill=\"#68228b\" stroke=\"#68228b\" points=\"232.25,-2124 91.75,-2124 91.75,-2088 232.25,-2088 232.25,-2124\"/>\\n<text text-anchor=\"middle\" x=\"162\" y=\"-2109\" font-family=\"Times,serif\" font-size=\"10.00\">nn.SpatialBatchNormalization</text>\\n<text text-anchor=\"middle\" x=\"162\" y=\"-2098\" font-family=\"Times,serif\" font-size=\"10.00\">Storage id: 14</text>\\n</g>\\n<!-- n20&#45;&gt;n21 -->\\n<g id=\"edge22\" class=\"edge\"><title>n20&#45;&gt;n21</title>\\n<path fill=\"none\" stroke=\"black\" d=\"M171.787,-2159.7C170.354,-2151.98 168.632,-2142.71 167.035,-2134.11\"/>\\n<polygon fill=\"black\" stroke=\"black\" points=\"170.444,-2133.3 165.177,-2124.1 163.561,-2134.58 170.444,-2133.3\"/>\\n</g>\\n<!-- n22 -->\\n<g id=\"node22\" class=\"node\"><title>n22</title>\\n<polygon fill=\"#68228b\" stroke=\"#68228b\" points=\"223,-2052 149,-2052 149,-2016 223,-2016 223,-2052\"/>\\n<text text-anchor=\"middle\" x=\"186\" y=\"-2037\" font-family=\"Times,serif\" font-size=\"10.00\">nn.ReLU</text>\\n<text text-anchor=\"middle\" x=\"186\" y=\"-2026\" font-family=\"Times,serif\" font-size=\"10.00\">Storage id: 14</text>\\n</g>\\n<!-- n21&#45;&gt;n22 -->\\n<g id=\"edge23\" class=\"edge\"><title>n21&#45;&gt;n22</title>\\n<path fill=\"none\" stroke=\"black\" d=\"M167.933,-2087.7C170.606,-2079.9 173.826,-2070.51 176.801,-2061.83\"/>\\n<polygon fill=\"black\" stroke=\"black\" points=\"180.203,-2062.7 180.136,-2052.1 173.582,-2060.43 180.203,-2062.7\"/>\\n</g>\\n<!-- n23 -->\\n<g id=\"node23\" class=\"node\"><title>n23</title>\\n<polygon fill=\"#53868b\" stroke=\"#53868b\" points=\"332.25,-1980 63.75,-1980 63.75,-1944 332.25,-1944 332.25,-1980\"/>\\n<text text-anchor=\"middle\" x=\"198\" y=\"-1965\" font-family=\"Times,serif\" font-size=\"10.00\">nn.SpatialConvolution(128 &#45;&gt; 128, 3x3, 1,1, 1,1) without bias</text>\\n<text text-anchor=\"middle\" x=\"198\" y=\"-1954\" font-family=\"Times,serif\" font-size=\"10.00\">Storage id: 15</text>\\n</g>\\n<!-- n22&#45;&gt;n23 -->\\n<g id=\"edge24\" class=\"edge\"><title>n22&#45;&gt;n23</title>\\n<path fill=\"none\" stroke=\"black\" d=\"M188.966,-2015.7C190.289,-2007.98 191.878,-1998.71 193.352,-1990.11\"/>\\n<polygon fill=\"black\" stroke=\"black\" points=\"196.828,-1990.55 195.068,-1980.1 189.928,-1989.37 196.828,-1990.55\"/>\\n</g>\\n<!-- n25 -->\\n<g id=\"node25\" class=\"node\"><title>n25</title>\\n<polygon fill=\"#53868b\" stroke=\"#53868b\" points=\"320.25,-1908 243.75,-1908 243.75,-1872 320.25,-1872 320.25,-1908\"/>\\n<text text-anchor=\"middle\" x=\"282\" y=\"-1893\" font-family=\"Times,serif\" font-size=\"10.00\">nn.CAddTable</text>\\n<text text-anchor=\"middle\" x=\"282\" y=\"-1882\" font-family=\"Times,serif\" font-size=\"10.00\">Storage id: 15</text>\\n</g>\\n<!-- n23&#45;&gt;n25 -->\\n<g id=\"edge26\" class=\"edge\"><title>n23&#45;&gt;n25</title>\\n<path fill=\"none\" stroke=\"black\" d=\"M218.764,-1943.7C229.241,-1934.97 242.111,-1924.24 253.5,-1914.75\"/>\\n<polygon fill=\"black\" stroke=\"black\" points=\"256.033,-1917.19 261.475,-1908.1 251.552,-1911.82 256.033,-1917.19\"/>\\n</g>\\n<!-- n24&#45;&gt;n25 -->\\n<g id=\"edge27\" class=\"edge\"><title>n24&#45;&gt;n25</title>\\n<path fill=\"none\" stroke=\"black\" d=\"M373.927,-2087.79C373.08,-2056.94 367.962,-1991.03 341,-1944 334.633,-1932.89 325.11,-1922.87 315.562,-1914.6\"/>\\n<polygon fill=\"black\" stroke=\"black\" points=\"317.558,-1911.71 307.605,-1908.08 313.123,-1917.12 317.558,-1911.71\"/>\\n</g>\\n<!-- n26 -->\\n<g id=\"node26\" class=\"node\"><title>n26</title>\\n<polygon fill=\"#79cdcd\" stroke=\"#79cdcd\" points=\"271.25,-1836 130.75,-1836 130.75,-1800 271.25,-1800 271.25,-1836\"/>\\n<text text-anchor=\"middle\" x=\"201\" y=\"-1821\" font-family=\"Times,serif\" font-size=\"10.00\">nn.SpatialBatchNormalization</text>\\n<text text-anchor=\"middle\" x=\"201\" y=\"-1810\" font-family=\"Times,serif\" font-size=\"10.00\">Storage id: 17</text>\\n</g>\\n<!-- n25&#45;&gt;n26 -->\\n<g id=\"edge28\" class=\"edge\"><title>n25&#45;&gt;n26</title>\\n<path fill=\"none\" stroke=\"black\" d=\"M261.978,-1871.7C251.874,-1862.97 239.464,-1852.24 228.482,-1842.75\"/>\\n<polygon fill=\"black\" stroke=\"black\" points=\"230.647,-1839.99 220.792,-1836.1 226.07,-1845.29 230.647,-1839.99\"/>\\n</g>\\n<!-- n32 -->\\n<g id=\"node32\" class=\"node\"><title>n32</title>\\n<polygon fill=\"#00ffff\" stroke=\"#00ffff\" points=\"272.25,-1404 195.75,-1404 195.75,-1368 272.25,-1368 272.25,-1404\"/>\\n<text text-anchor=\"middle\" x=\"234\" y=\"-1389\" font-family=\"Times,serif\" font-size=\"10.00\">nn.CAddTable</text>\\n<text text-anchor=\"middle\" x=\"234\" y=\"-1378\" font-family=\"Times,serif\" font-size=\"10.00\">Storage id: 20</text>\\n</g>\\n<!-- n25&#45;&gt;n32 -->\\n<g id=\"edge35\" class=\"edge\"><title>n25&#45;&gt;n32</title>\\n<path fill=\"none\" stroke=\"black\" d=\"M288.88,-1871.83C298.815,-1845.44 316,-1793.14 316,-1747 316,-1747 316,-1747 316,-1529 316,-1488.46 316.923,-1474.73 296,-1440 289.195,-1428.71 279.139,-1418.62 269.096,-1410.35\"/>\\n<polygon fill=\"black\" stroke=\"black\" points=\"271.146,-1407.51 261.108,-1404.12 266.842,-1413.03 271.146,-1407.51\"/>\\n</g>\\n<!-- n27 -->\\n<g id=\"node27\" class=\"node\"><title>n27</title>\\n<polygon fill=\"#79cdcd\" stroke=\"#79cdcd\" points=\"206,-1764 132,-1764 132,-1728 206,-1728 206,-1764\"/>\\n<text text-anchor=\"middle\" x=\"169\" y=\"-1749\" font-family=\"Times,serif\" font-size=\"10.00\">nn.ReLU</text>\\n<text text-anchor=\"middle\" x=\"169\" y=\"-1738\" font-family=\"Times,serif\" font-size=\"10.00\">Storage id: 17</text>\\n</g>\\n<!-- n26&#45;&gt;n27 -->\\n<g id=\"edge29\" class=\"edge\"><title>n26&#45;&gt;n27</title>\\n<path fill=\"none\" stroke=\"black\" d=\"M193.09,-1799.7C189.447,-1791.73 185.046,-1782.1 181.006,-1773.26\"/>\\n<polygon fill=\"black\" stroke=\"black\" points=\"184.16,-1771.74 176.819,-1764.1 177.794,-1774.65 184.16,-1771.74\"/>\\n</g>\\n<!-- n28 -->\\n<g id=\"node28\" class=\"node\"><title>n28</title>\\n<polygon fill=\"#8b8378\" stroke=\"#8b8378\" points=\"287.25,-1692 18.75,-1692 18.75,-1656 287.25,-1656 287.25,-1692\"/>\\n<text text-anchor=\"middle\" x=\"153\" y=\"-1677\" font-family=\"Times,serif\" font-size=\"10.00\">nn.SpatialConvolution(128 &#45;&gt; 128, 3x3, 1,1, 1,1) without bias</text>\\n<text text-anchor=\"middle\" x=\"153\" y=\"-1666\" font-family=\"Times,serif\" font-size=\"10.00\">Storage id: 18</text>\\n</g>\\n<!-- n27&#45;&gt;n28 -->\\n<g id=\"edge30\" class=\"edge\"><title>n27&#45;&gt;n28</title>\\n<path fill=\"none\" stroke=\"black\" d=\"M165.045,-1727.7C163.282,-1719.98 161.163,-1710.71 159.197,-1702.11\"/>\\n<polygon fill=\"black\" stroke=\"black\" points=\"162.55,-1701.07 156.91,-1692.1 155.726,-1702.63 162.55,-1701.07\"/>\\n</g>\\n<!-- n29 -->\\n<g id=\"node29\" class=\"node\"><title>n29</title>\\n<polygon fill=\"#bcee68\" stroke=\"#bcee68\" points=\"223.25,-1620 82.75,-1620 82.75,-1584 223.25,-1584 223.25,-1620\"/>\\n<text text-anchor=\"middle\" x=\"153\" y=\"-1605\" font-family=\"Times,serif\" font-size=\"10.00\">nn.SpatialBatchNormalization</text>\\n<text text-anchor=\"middle\" x=\"153\" y=\"-1594\" font-family=\"Times,serif\" font-size=\"10.00\">Storage id: 19</text>\\n</g>\\n<!-- n28&#45;&gt;n29 -->\\n<g id=\"edge31\" class=\"edge\"><title>n28&#45;&gt;n29</title>\\n<path fill=\"none\" stroke=\"black\" d=\"M153,-1655.7C153,-1647.98 153,-1638.71 153,-1630.11\"/>\\n<polygon fill=\"black\" stroke=\"black\" points=\"156.5,-1630.1 153,-1620.1 149.5,-1630.1 156.5,-1630.1\"/>\\n</g>\\n<!-- n30 -->\\n<g id=\"node30\" class=\"node\"><title>n30</title>\\n<polygon fill=\"#bcee68\" stroke=\"#bcee68\" points=\"190,-1548 116,-1548 116,-1512 190,-1512 190,-1548\"/>\\n<text text-anchor=\"middle\" x=\"153\" y=\"-1533\" font-family=\"Times,serif\" font-size=\"10.00\">nn.ReLU</text>\\n<text text-anchor=\"middle\" x=\"153\" y=\"-1522\" font-family=\"Times,serif\" font-size=\"10.00\">Storage id: 19</text>\\n</g>\\n<!-- n29&#45;&gt;n30 -->\\n<g id=\"edge32\" class=\"edge\"><title>n29&#45;&gt;n30</title>\\n<path fill=\"none\" stroke=\"black\" d=\"M153,-1583.7C153,-1575.98 153,-1566.71 153,-1558.11\"/>\\n<polygon fill=\"black\" stroke=\"black\" points=\"156.5,-1558.1 153,-1548.1 149.5,-1558.1 156.5,-1558.1\"/>\\n</g>\\n<!-- n31 -->\\n<g id=\"node31\" class=\"node\"><title>n31</title>\\n<polygon fill=\"#00ffff\" stroke=\"#00ffff\" points=\"287.25,-1476 18.75,-1476 18.75,-1440 287.25,-1440 287.25,-1476\"/>\\n<text text-anchor=\"middle\" x=\"153\" y=\"-1461\" font-family=\"Times,serif\" font-size=\"10.00\">nn.SpatialConvolution(128 &#45;&gt; 128, 3x3, 1,1, 1,1) without bias</text>\\n<text text-anchor=\"middle\" x=\"153\" y=\"-1450\" font-family=\"Times,serif\" font-size=\"10.00\">Storage id: 20</text>\\n</g>\\n<!-- n30&#45;&gt;n31 -->\\n<g id=\"edge33\" class=\"edge\"><title>n30&#45;&gt;n31</title>\\n<path fill=\"none\" stroke=\"black\" d=\"M153,-1511.7C153,-1503.98 153,-1494.71 153,-1486.11\"/>\\n<polygon fill=\"black\" stroke=\"black\" points=\"156.5,-1486.1 153,-1476.1 149.5,-1486.1 156.5,-1486.1\"/>\\n</g>\\n<!-- n31&#45;&gt;n32 -->\\n<g id=\"edge34\" class=\"edge\"><title>n31&#45;&gt;n32</title>\\n<path fill=\"none\" stroke=\"black\" d=\"M173.022,-1439.7C183.126,-1430.97 195.536,-1420.24 206.518,-1410.75\"/>\\n<polygon fill=\"black\" stroke=\"black\" points=\"208.93,-1413.29 214.208,-1404.1 204.353,-1407.99 208.93,-1413.29\"/>\\n</g>\\n<!-- n33 -->\\n<g id=\"node33\" class=\"node\"><title>n33</title>\\n<polygon fill=\"#8b0a50\" stroke=\"#8b0a50\" points=\"304.25,-1332 163.75,-1332 163.75,-1296 304.25,-1296 304.25,-1332\"/>\\n<text text-anchor=\"middle\" x=\"234\" y=\"-1317\" font-family=\"Times,serif\" font-size=\"10.00\">nn.SpatialBatchNormalization</text>\\n<text text-anchor=\"middle\" x=\"234\" y=\"-1306\" font-family=\"Times,serif\" font-size=\"10.00\">Storage id: 21</text>\\n</g>\\n<!-- n32&#45;&gt;n33 -->\\n<g id=\"edge36\" class=\"edge\"><title>n32&#45;&gt;n33</title>\\n<path fill=\"none\" stroke=\"black\" d=\"M234,-1367.7C234,-1359.98 234,-1350.71 234,-1342.11\"/>\\n<polygon fill=\"black\" stroke=\"black\" points=\"237.5,-1342.1 234,-1332.1 230.5,-1342.1 237.5,-1342.1\"/>\\n</g>\\n<!-- n34 -->\\n<g id=\"node34\" class=\"node\"><title>n34</title>\\n<polygon fill=\"#8b0a50\" stroke=\"#8b0a50\" points=\"271,-1260 197,-1260 197,-1224 271,-1224 271,-1260\"/>\\n<text text-anchor=\"middle\" x=\"234\" y=\"-1245\" font-family=\"Times,serif\" font-size=\"10.00\">nn.ReLU</text>\\n<text text-anchor=\"middle\" x=\"234\" y=\"-1234\" font-family=\"Times,serif\" font-size=\"10.00\">Storage id: 21</text>\\n</g>\\n<!-- n33&#45;&gt;n34 -->\\n<g id=\"edge37\" class=\"edge\"><title>n33&#45;&gt;n34</title>\\n<path fill=\"none\" stroke=\"black\" d=\"M234,-1295.7C234,-1287.98 234,-1278.71 234,-1270.11\"/>\\n<polygon fill=\"black\" stroke=\"black\" points=\"237.5,-1270.1 234,-1260.1 230.5,-1270.1 237.5,-1270.1\"/>\\n</g>\\n<!-- n35 -->\\n<g id=\"node35\" class=\"node\"><title>n35</title>\\n<polygon fill=\"blue\" stroke=\"blue\" points=\"287.25,-1188 18.75,-1188 18.75,-1152 287.25,-1152 287.25,-1188\"/>\\n<text text-anchor=\"middle\" x=\"153\" y=\"-1173\" font-family=\"Times,serif\" font-size=\"10.00\">nn.SpatialConvolution(128 &#45;&gt; 256, 3x3, 2,2, 1,1) without bias</text>\\n<text text-anchor=\"middle\" x=\"153\" y=\"-1162\" font-family=\"Times,serif\" font-size=\"10.00\">Storage id: 22</text>\\n</g>\\n<!-- n34&#45;&gt;n35 -->\\n<g id=\"edge38\" class=\"edge\"><title>n34&#45;&gt;n35</title>\\n<path fill=\"none\" stroke=\"black\" d=\"M213.978,-1223.7C203.874,-1214.97 191.464,-1204.24 180.482,-1194.75\"/>\\n<polygon fill=\"black\" stroke=\"black\" points=\"182.647,-1191.99 172.792,-1188.1 178.07,-1197.29 182.647,-1191.99\"/>\\n</g>\\n<!-- n39 -->\\n<g id=\"node39\" class=\"node\"><title>n39</title>\\n<polygon fill=\"#cd3333\" stroke=\"#cd3333\" points=\"481,-1116 229,-1116 229,-1080 481,-1080 481,-1116\"/>\\n<text text-anchor=\"middle\" x=\"355\" y=\"-1101\" font-family=\"Times,serif\" font-size=\"10.00\">nn.SpatialConvolution(128 &#45;&gt; 256, 1x1, 2,2) without bias</text>\\n<text text-anchor=\"middle\" x=\"355\" y=\"-1090\" font-family=\"Times,serif\" font-size=\"10.00\">Storage id: 25</text>\\n</g>\\n<!-- n34&#45;&gt;n39 -->\\n<g id=\"edge42\" class=\"edge\"><title>n34&#45;&gt;n39</title>\\n<path fill=\"none\" stroke=\"black\" d=\"M256.874,-1223.98C269.212,-1214.2 284.269,-1201.26 296,-1188 313.342,-1168.4 329.497,-1143.36 340.501,-1124.83\"/>\\n<polygon fill=\"black\" stroke=\"black\" points=\"343.604,-1126.46 345.619,-1116.06 337.558,-1122.93 343.604,-1126.46\"/>\\n</g>\\n<!-- n36 -->\\n<g id=\"node36\" class=\"node\"><title>n36</title>\\n<polygon fill=\"#ff4040\" stroke=\"#ff4040\" points=\"210.25,-1116 69.75,-1116 69.75,-1080 210.25,-1080 210.25,-1116\"/>\\n<text text-anchor=\"middle\" x=\"140\" y=\"-1101\" font-family=\"Times,serif\" font-size=\"10.00\">nn.SpatialBatchNormalization</text>\\n<text text-anchor=\"middle\" x=\"140\" y=\"-1090\" font-family=\"Times,serif\" font-size=\"10.00\">Storage id: 23</text>\\n</g>\\n<!-- n35&#45;&gt;n36 -->\\n<g id=\"edge39\" class=\"edge\"><title>n35&#45;&gt;n36</title>\\n<path fill=\"none\" stroke=\"black\" d=\"M149.787,-1151.7C148.354,-1143.98 146.632,-1134.71 145.035,-1126.11\"/>\\n<polygon fill=\"black\" stroke=\"black\" points=\"148.444,-1125.3 143.177,-1116.1 141.561,-1126.58 148.444,-1125.3\"/>\\n</g>\\n<!-- n37 -->\\n<g id=\"node37\" class=\"node\"><title>n37</title>\\n<polygon fill=\"#ff4040\" stroke=\"#ff4040\" points=\"203,-1044 129,-1044 129,-1008 203,-1008 203,-1044\"/>\\n<text text-anchor=\"middle\" x=\"166\" y=\"-1029\" font-family=\"Times,serif\" font-size=\"10.00\">nn.ReLU</text>\\n<text text-anchor=\"middle\" x=\"166\" y=\"-1018\" font-family=\"Times,serif\" font-size=\"10.00\">Storage id: 23</text>\\n</g>\\n<!-- n36&#45;&gt;n37 -->\\n<g id=\"edge40\" class=\"edge\"><title>n36&#45;&gt;n37</title>\\n<path fill=\"none\" stroke=\"black\" d=\"M146.427,-1079.7C149.355,-1071.81 152.887,-1062.3 156.14,-1053.55\"/>\\n<polygon fill=\"black\" stroke=\"black\" points=\"159.446,-1054.7 159.647,-1044.1 152.884,-1052.26 159.446,-1054.7\"/>\\n</g>\\n<!-- n38 -->\\n<g id=\"node38\" class=\"node\"><title>n38</title>\\n<polygon fill=\"#8b6914\" stroke=\"#8b6914\" points=\"313.25,-972 44.75,-972 44.75,-936 313.25,-936 313.25,-972\"/>\\n<text text-anchor=\"middle\" x=\"179\" y=\"-957\" font-family=\"Times,serif\" font-size=\"10.00\">nn.SpatialConvolution(256 &#45;&gt; 256, 3x3, 1,1, 1,1) without bias</text>\\n<text text-anchor=\"middle\" x=\"179\" y=\"-946\" font-family=\"Times,serif\" font-size=\"10.00\">Storage id: 24</text>\\n</g>\\n<!-- n37&#45;&gt;n38 -->\\n<g id=\"edge41\" class=\"edge\"><title>n37&#45;&gt;n38</title>\\n<path fill=\"none\" stroke=\"black\" d=\"M169.213,-1007.7C170.646,-999.983 172.368,-990.712 173.965,-982.112\"/>\\n<polygon fill=\"black\" stroke=\"black\" points=\"177.439,-982.575 175.823,-972.104 170.556,-981.297 177.439,-982.575\"/>\\n</g>\\n<!-- n40 -->\\n<g id=\"node40\" class=\"node\"><title>n40</title>\\n<polygon fill=\"#8b6914\" stroke=\"#8b6914\" points=\"301.25,-900 224.75,-900 224.75,-864 301.25,-864 301.25,-900\"/>\\n<text text-anchor=\"middle\" x=\"263\" y=\"-885\" font-family=\"Times,serif\" font-size=\"10.00\">nn.CAddTable</text>\\n<text text-anchor=\"middle\" x=\"263\" y=\"-874\" font-family=\"Times,serif\" font-size=\"10.00\">Storage id: 24</text>\\n</g>\\n<!-- n38&#45;&gt;n40 -->\\n<g id=\"edge43\" class=\"edge\"><title>n38&#45;&gt;n40</title>\\n<path fill=\"none\" stroke=\"black\" d=\"M199.764,-935.697C210.241,-926.965 223.111,-916.24 234.5,-906.75\"/>\\n<polygon fill=\"black\" stroke=\"black\" points=\"237.033,-909.195 242.475,-900.104 232.552,-903.817 237.033,-909.195\"/>\\n</g>\\n<!-- n39&#45;&gt;n40 -->\\n<g id=\"edge44\" class=\"edge\"><title>n39&#45;&gt;n40</title>\\n<path fill=\"none\" stroke=\"black\" d=\"M354.927,-1079.79C354.08,-1048.94 348.962,-983.031 322,-936 315.633,-924.895 306.11,-914.865 296.562,-906.595\"/>\\n<polygon fill=\"black\" stroke=\"black\" points=\"298.558,-903.706 288.605,-900.077 294.123,-909.122 298.558,-903.706\"/>\\n</g>\\n<!-- n41 -->\\n<g id=\"node41\" class=\"node\"><title>n41</title>\\n<polygon fill=\"#9bcd9b\" stroke=\"#9bcd9b\" points=\"252.25,-828 111.75,-828 111.75,-792 252.25,-792 252.25,-828\"/>\\n<text text-anchor=\"middle\" x=\"182\" y=\"-813\" font-family=\"Times,serif\" font-size=\"10.00\">nn.SpatialBatchNormalization</text>\\n<text text-anchor=\"middle\" x=\"182\" y=\"-802\" font-family=\"Times,serif\" font-size=\"10.00\">Storage id: 26</text>\\n</g>\\n<!-- n40&#45;&gt;n41 -->\\n<g id=\"edge45\" class=\"edge\"><title>n40&#45;&gt;n41</title>\\n<path fill=\"none\" stroke=\"black\" d=\"M242.978,-863.697C232.874,-854.965 220.464,-844.24 209.482,-834.75\"/>\\n<polygon fill=\"black\" stroke=\"black\" points=\"211.647,-831.995 201.792,-828.104 207.07,-837.291 211.647,-831.995\"/>\\n</g>\\n<!-- n47 -->\\n<g id=\"node47\" class=\"node\"><title>n47</title>\\n<polygon fill=\"#eec591\" stroke=\"#eec591\" points=\"253.25,-396 176.75,-396 176.75,-360 253.25,-360 253.25,-396\"/>\\n<text text-anchor=\"middle\" x=\"215\" y=\"-381\" font-family=\"Times,serif\" font-size=\"10.00\">nn.CAddTable</text>\\n<text text-anchor=\"middle\" x=\"215\" y=\"-370\" font-family=\"Times,serif\" font-size=\"10.00\">Storage id: 29</text>\\n</g>\\n<!-- n40&#45;&gt;n47 -->\\n<g id=\"edge52\" class=\"edge\"><title>n40&#45;&gt;n47</title>\\n<path fill=\"none\" stroke=\"black\" d=\"M269.88,-863.829C279.815,-837.444 297,-785.136 297,-739 297,-739 297,-739 297,-521 297,-480.458 297.923,-466.726 277,-432 270.195,-420.707 260.139,-410.617 250.096,-402.35\"/>\\n<polygon fill=\"black\" stroke=\"black\" points=\"252.146,-399.51 242.108,-396.122 247.842,-405.031 252.146,-399.51\"/>\\n</g>\\n<!-- n42 -->\\n<g id=\"node42\" class=\"node\"><title>n42</title>\\n<polygon fill=\"#9bcd9b\" stroke=\"#9bcd9b\" points=\"187,-756 113,-756 113,-720 187,-720 187,-756\"/>\\n<text text-anchor=\"middle\" x=\"150\" y=\"-741\" font-family=\"Times,serif\" font-size=\"10.00\">nn.ReLU</text>\\n<text text-anchor=\"middle\" x=\"150\" y=\"-730\" font-family=\"Times,serif\" font-size=\"10.00\">Storage id: 26</text>\\n</g>\\n<!-- n41&#45;&gt;n42 -->\\n<g id=\"edge46\" class=\"edge\"><title>n41&#45;&gt;n42</title>\\n<path fill=\"none\" stroke=\"black\" d=\"M174.09,-791.697C170.447,-783.728 166.046,-774.1 162.006,-765.264\"/>\\n<polygon fill=\"black\" stroke=\"black\" points=\"165.16,-763.744 157.819,-756.104 158.794,-766.654 165.16,-763.744\"/>\\n</g>\\n<!-- n43 -->\\n<g id=\"node43\" class=\"node\"><title>n43</title>\\n<polygon fill=\"cyan\" stroke=\"cyan\" points=\"268.25,-684 -0.25,-684 -0.25,-648 268.25,-648 268.25,-684\"/>\\n<text text-anchor=\"middle\" x=\"134\" y=\"-669\" font-family=\"Times,serif\" font-size=\"10.00\">nn.SpatialConvolution(256 &#45;&gt; 256, 3x3, 1,1, 1,1) without bias</text>\\n<text text-anchor=\"middle\" x=\"134\" y=\"-658\" font-family=\"Times,serif\" font-size=\"10.00\">Storage id: 27</text>\\n</g>\\n<!-- n42&#45;&gt;n43 -->\\n<g id=\"edge47\" class=\"edge\"><title>n42&#45;&gt;n43</title>\\n<path fill=\"none\" stroke=\"black\" d=\"M146.045,-719.697C144.282,-711.983 142.163,-702.712 140.197,-694.112\"/>\\n<polygon fill=\"black\" stroke=\"black\" points=\"143.55,-693.073 137.91,-684.104 136.726,-694.633 143.55,-693.073\"/>\\n</g>\\n<!-- n44 -->\\n<g id=\"node44\" class=\"node\"><title>n44</title>\\n<polygon fill=\"gold\" stroke=\"gold\" points=\"204.25,-612 63.75,-612 63.75,-576 204.25,-576 204.25,-612\"/>\\n<text text-anchor=\"middle\" x=\"134\" y=\"-597\" font-family=\"Times,serif\" font-size=\"10.00\">nn.SpatialBatchNormalization</text>\\n<text text-anchor=\"middle\" x=\"134\" y=\"-586\" font-family=\"Times,serif\" font-size=\"10.00\">Storage id: 28</text>\\n</g>\\n<!-- n43&#45;&gt;n44 -->\\n<g id=\"edge48\" class=\"edge\"><title>n43&#45;&gt;n44</title>\\n<path fill=\"none\" stroke=\"black\" d=\"M134,-647.697C134,-639.983 134,-630.712 134,-622.112\"/>\\n<polygon fill=\"black\" stroke=\"black\" points=\"137.5,-622.104 134,-612.104 130.5,-622.104 137.5,-622.104\"/>\\n</g>\\n<!-- n45 -->\\n<g id=\"node45\" class=\"node\"><title>n45</title>\\n<polygon fill=\"gold\" stroke=\"gold\" points=\"171,-540 97,-540 97,-504 171,-504 171,-540\"/>\\n<text text-anchor=\"middle\" x=\"134\" y=\"-525\" font-family=\"Times,serif\" font-size=\"10.00\">nn.ReLU</text>\\n<text text-anchor=\"middle\" x=\"134\" y=\"-514\" font-family=\"Times,serif\" font-size=\"10.00\">Storage id: 28</text>\\n</g>\\n<!-- n44&#45;&gt;n45 -->\\n<g id=\"edge49\" class=\"edge\"><title>n44&#45;&gt;n45</title>\\n<path fill=\"none\" stroke=\"black\" d=\"M134,-575.697C134,-567.983 134,-558.712 134,-550.112\"/>\\n<polygon fill=\"black\" stroke=\"black\" points=\"137.5,-550.104 134,-540.104 130.5,-550.104 137.5,-550.104\"/>\\n</g>\\n<!-- n46 -->\\n<g id=\"node46\" class=\"node\"><title>n46</title>\\n<polygon fill=\"#eec591\" stroke=\"#eec591\" points=\"268.25,-468 -0.25,-468 -0.25,-432 268.25,-432 268.25,-468\"/>\\n<text text-anchor=\"middle\" x=\"134\" y=\"-453\" font-family=\"Times,serif\" font-size=\"10.00\">nn.SpatialConvolution(256 &#45;&gt; 256, 3x3, 1,1, 1,1) without bias</text>\\n<text text-anchor=\"middle\" x=\"134\" y=\"-442\" font-family=\"Times,serif\" font-size=\"10.00\">Storage id: 29</text>\\n</g>\\n<!-- n45&#45;&gt;n46 -->\\n<g id=\"edge50\" class=\"edge\"><title>n45&#45;&gt;n46</title>\\n<path fill=\"none\" stroke=\"black\" d=\"M134,-503.697C134,-495.983 134,-486.712 134,-478.112\"/>\\n<polygon fill=\"black\" stroke=\"black\" points=\"137.5,-478.104 134,-468.104 130.5,-478.104 137.5,-478.104\"/>\\n</g>\\n<!-- n46&#45;&gt;n47 -->\\n<g id=\"edge51\" class=\"edge\"><title>n46&#45;&gt;n47</title>\\n<path fill=\"none\" stroke=\"black\" d=\"M154.022,-431.697C164.126,-422.965 176.536,-412.24 187.518,-402.75\"/>\\n<polygon fill=\"black\" stroke=\"black\" points=\"189.93,-405.291 195.208,-396.104 185.353,-399.995 189.93,-405.291\"/>\\n</g>\\n<!-- n48 -->\\n<g id=\"node48\" class=\"node\"><title>n48</title>\\n<polygon fill=\"#cdaa7d\" stroke=\"#cdaa7d\" points=\"285.25,-324 144.75,-324 144.75,-288 285.25,-288 285.25,-324\"/>\\n<text text-anchor=\"middle\" x=\"215\" y=\"-309\" font-family=\"Times,serif\" font-size=\"10.00\">nn.SpatialBatchNormalization</text>\\n<text text-anchor=\"middle\" x=\"215\" y=\"-298\" font-family=\"Times,serif\" font-size=\"10.00\">Storage id: 30</text>\\n</g>\\n<!-- n47&#45;&gt;n48 -->\\n<g id=\"edge53\" class=\"edge\"><title>n47&#45;&gt;n48</title>\\n<path fill=\"none\" stroke=\"black\" d=\"M215,-359.697C215,-351.983 215,-342.712 215,-334.112\"/>\\n<polygon fill=\"black\" stroke=\"black\" points=\"218.5,-334.104 215,-324.104 211.5,-334.104 218.5,-334.104\"/>\\n</g>\\n<!-- n49 -->\\n<g id=\"node49\" class=\"node\"><title>n49</title>\\n<polygon fill=\"#cdaa7d\" stroke=\"#cdaa7d\" points=\"252,-252 178,-252 178,-216 252,-216 252,-252\"/>\\n<text text-anchor=\"middle\" x=\"215\" y=\"-237\" font-family=\"Times,serif\" font-size=\"10.00\">nn.ReLU</text>\\n<text text-anchor=\"middle\" x=\"215\" y=\"-226\" font-family=\"Times,serif\" font-size=\"10.00\">Storage id: 30</text>\\n</g>\\n<!-- n48&#45;&gt;n49 -->\\n<g id=\"edge54\" class=\"edge\"><title>n48&#45;&gt;n49</title>\\n<path fill=\"none\" stroke=\"black\" d=\"M215,-287.697C215,-279.983 215,-270.712 215,-262.112\"/>\\n<polygon fill=\"black\" stroke=\"black\" points=\"218.5,-262.104 215,-252.104 211.5,-262.104 218.5,-262.104\"/>\\n</g>\\n<!-- n50 -->\\n<g id=\"node50\" class=\"node\"><title>n50</title>\\n<polygon fill=\"#53868b\" stroke=\"#53868b\" points=\"297,-180 133,-180 133,-144 297,-144 297,-180\"/>\\n<text text-anchor=\"middle\" x=\"215\" y=\"-165\" font-family=\"Times,serif\" font-size=\"10.00\">nn.SpatialAveragePooling(8x8, 1,1)</text>\\n<text text-anchor=\"middle\" x=\"215\" y=\"-154\" font-family=\"Times,serif\" font-size=\"10.00\">Storage id: 31</text>\\n</g>\\n<!-- n49&#45;&gt;n50 -->\\n<g id=\"edge55\" class=\"edge\"><title>n49&#45;&gt;n50</title>\\n<path fill=\"none\" stroke=\"black\" d=\"M215,-215.697C215,-207.983 215,-198.712 215,-190.112\"/>\\n<polygon fill=\"black\" stroke=\"black\" points=\"218.5,-190.104 215,-180.104 211.5,-190.104 218.5,-190.104\"/>\\n</g>\\n<!-- n51 -->\\n<g id=\"node51\" class=\"node\"><title>n51</title>\\n<polygon fill=\"#53868b\" stroke=\"#53868b\" points=\"252,-108 178,-108 178,-72 252,-72 252,-108\"/>\\n<text text-anchor=\"middle\" x=\"215\" y=\"-93\" font-family=\"Times,serif\" font-size=\"10.00\">nn.View(256)</text>\\n<text text-anchor=\"middle\" x=\"215\" y=\"-82\" font-family=\"Times,serif\" font-size=\"10.00\">Storage id: 31</text>\\n</g>\\n<!-- n50&#45;&gt;n51 -->\\n<g id=\"edge56\" class=\"edge\"><title>n50&#45;&gt;n51</title>\\n<path fill=\"none\" stroke=\"black\" d=\"M215,-143.697C215,-135.983 215,-126.712 215,-118.112\"/>\\n<polygon fill=\"black\" stroke=\"black\" points=\"218.5,-118.104 215,-108.104 211.5,-118.104 218.5,-118.104\"/>\\n</g>\\n<!-- n52 -->\\n<g id=\"node52\" class=\"node\"><title>n52</title>\\n<polygon fill=\"#00eeee\" stroke=\"#00eeee\" points=\"265.25,-36 164.75,-36 164.75,-0 265.25,-0 265.25,-36\"/>\\n<text text-anchor=\"middle\" x=\"215\" y=\"-21\" font-family=\"Times,serif\" font-size=\"10.00\">nn.Linear(256 &#45;&gt; 10)</text>\\n<text text-anchor=\"middle\" x=\"215\" y=\"-10\" font-family=\"Times,serif\" font-size=\"10.00\">Storage id: 32</text>\\n</g>\\n<!-- n51&#45;&gt;n52 -->\\n<g id=\"edge57\" class=\"edge\"><title>n51&#45;&gt;n52</title>\\n<path fill=\"none\" stroke=\"black\" d=\"M215,-71.6966C215,-63.9827 215,-54.7125 215,-46.1124\"/>\\n<polygon fill=\"black\" stroke=\"black\" points=\"218.5,-46.1043 215,-36.1043 211.5,-46.1044 218.5,-46.1043\"/>\\n</g>\\n</g>\\n</svg>\\n'); // clear any previous plot in window_id     \n",
       "  });\n",
       "</script>\n",
       "<div id=\"7d2b0a47-170c-4ac1-ca4a-6685398c9c2b\"></div>\n"
      ]
     },
     "metadata": {},
     "output_type": "display_data"
    }
   ],
   "source": [
    "graphgen = require 'optnet.graphgen'\n",
    "\n",
    "-- optnet needs to propagate through the network to generate the graph\n",
    "-- so we create a dummy input for it\n",
    "local input = torch.randn(1,3,32,32):float()\n",
    "\n",
    "-- we will generate svg image from our graph\n",
    "local svgname = paths.tmpname() .. '.svg'\n",
    "graph.graphvizFile(graphgen(net,input), 'dot', svgname)\n",
    "itorch.svg(svgname)"
   ]
  },
  {
   "cell_type": "code",
   "execution_count": 19,
   "metadata": {
    "collapsed": true
   },
   "outputs": [],
   "source": [
    "cudnn.convert(net, cudnn):cuda()\n",
    "\n",
    "-- utilize optnet to reduce memory usage\n",
    "local sample_input = torch.randn(8,3,32,32):cuda()\n",
    "optnet.optimizeMemory(net, sample_input, {inplace = false, mode = 'training'})\n",
    "cudnn.benchmark = true\n",
    "\n",
    "model = nn.Sequential()\n",
    "    :add(nn.Copy('torch.ByteTensor', 'torch.CudaTensor'))\n",
    "    :add(nn.Mul(1/256))\n",
    "    :cuda()\n",
    "if opt.nGPU == 1 then\n",
    "    model:add(net)\n",
    "else\n",
    "    -- this will wrap our initial network into data parallel module\n",
    "    -- that will take care around multi-GPU communications in an efficient\n",
    "    -- manner, and will launch CUDA kernels in parallel to reduce overhead on\n",
    "    -- kernel launches\n",
    "    model:add(nn.DataParallelTable(1, true, true)\n",
    "         :add(model, gpus)\n",
    "         :threads(function()\n",
    "            local cudnn = require 'cudnn'\n",
    "            cudnn.benchmark = true\n",
    "         end))\n",
    "end"
   ]
  },
  {
   "cell_type": "code",
   "execution_count": 12,
   "metadata": {
    "collapsed": false
   },
   "outputs": [],
   "source": [
    "provider = torch.load(opt.dataset)"
   ]
  },
  {
   "cell_type": "code",
   "execution_count": 13,
   "metadata": {
    "collapsed": false
   },
   "outputs": [],
   "source": [
    "-- don't call this more than once\n",
    "parameters,gradParameters = model:getParameters()"
   ]
  },
  {
   "cell_type": "code",
   "execution_count": 14,
   "metadata": {
    "collapsed": false
   },
   "outputs": [],
   "source": [
    "local criterion = nn.CrossEntropyCriterion():cuda()\n",
    "\n",
    "-- a-la autograd\n",
    "local f = function(inputs, targets)\n",
    "   model:forward(inputs)\n",
    "   local loss = criterion:forward(model.output, targets)\n",
    "   local df_do = criterion:backward(model.output, targets)\n",
    "   model:backward(inputs, df_do)\n",
    "   return loss\n",
    "end\n",
    "\n",
    "local optimState = tablex.deepcopy(opt)\n",
    "\n",
    "\n",
    "function train()\n",
    "  model:training()\n",
    "\n",
    "  local targets = torch.CudaTensor(opt.batchSize)\n",
    "  local indices = torch.randperm(provider.trainData.data:size(1)):long():split(opt.batchSize)\n",
    "  -- remove last element so that all minibatches have equal size\n",
    "  indices[#indices] = nil\n",
    "\n",
    "  local loss = 0\n",
    "\n",
    "  for t,v in ipairs(indices) do\n",
    "    local inputs = provider.trainData.data:index(1,v)\n",
    "    targets:copy(provider.trainData.labels:index(1,v))\n",
    "\n",
    "    optim[opt.optimMethod](function(x)\n",
    "      if x ~= parameters then parameters:copy(x) end\n",
    "      model:zeroGradParameters()\n",
    "      loss = loss + f(inputs, targets)\n",
    "      return f,gradParameters\n",
    "    end, parameters, optimState)\n",
    "  end\n",
    "\n",
    "  return loss / #indices\n",
    "end\n",
    "\n",
    "function test()\n",
    "  model:evaluate()\n",
    "  local confusion = optim.ConfusionMatrix(opt.num_classes)\n",
    "  local data_split = provider.testData.data:split(opt.batchSize,1)\n",
    "  local labels_split = provider.testData.labels:split(opt.batchSize,1)\n",
    "\n",
    "  for i,v in ipairs(data_split) do\n",
    "    confusion:batchAdd(model:forward(v), labels_split[i])\n",
    "  end\n",
    "\n",
    "  confusion:updateValids()\n",
    "  return confusion.totalValid * 100\n",
    "end"
   ]
  },
  {
   "cell_type": "code",
   "execution_count": 15,
   "metadata": {
    "collapsed": false
   },
   "outputs": [
    {
     "data": {
      "text/plain": [
       "1.3923781518753\t\n"
      ]
     },
     "execution_count": 15,
     "metadata": {},
     "output_type": "execute_result"
    }
   ],
   "source": [
    "train()"
   ]
  },
  {
   "cell_type": "code",
   "execution_count": 8,
   "metadata": {
    "collapsed": false
   },
   "outputs": [
    {
     "data": {
      "text/plain": [
       "53.72\t\n"
      ]
     },
     "execution_count": 8,
     "metadata": {},
     "output_type": "execute_result"
    }
   ],
   "source": [
    "test()"
   ]
  },
  {
   "cell_type": "code",
   "execution_count": null,
   "metadata": {
    "collapsed": true
   },
   "outputs": [],
   "source": []
  }
 ],
 "metadata": {
  "kernelspec": {
   "display_name": "iTorch",
   "language": "lua",
   "name": "itorch"
  },
  "language_info": {
   "name": "lua",
   "version": "5.1"
  }
 },
 "nbformat": 4,
 "nbformat_minor": 0
}
